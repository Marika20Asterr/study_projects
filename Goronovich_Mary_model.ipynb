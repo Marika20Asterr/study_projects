{
 "cells": [
  {
   "cell_type": "code",
   "execution_count": 1,
   "metadata": {},
   "outputs": [],
   "source": [
    "# Внимание!!! Важно, что бы файлы с данными и исполняемый файл находились в одной папке, \n",
    "# тогда пути к тестовым и тренировочным наборам будут содержать только имена файлов.\n",
    "# \n",
    "# В пути к тренировочным и тестовым данным запрежается использовать абсалютную адресацию, \n",
    "# то есть адресацию, в которой присутствуют имена папок. Путь должен содержать только имя файла.\n",
    "#\n",
    "# Напоминание: под моделью машинного обучения понимаются все действия с исходными данными, \n",
    "# которые необходимо произвести, что бы сопоставить признаки целевому значению."
   ]
  },
  {
   "cell_type": "markdown",
   "metadata": {},
   "source": [
    "### Область работы 1 (библиотеки)"
   ]
  },
  {
   "cell_type": "code",
   "execution_count": 2,
   "metadata": {},
   "outputs": [],
   "source": [
    "# Данный блок в области 1 выполняется преподавателем\n",
    "# \n",
    "# данный блок предназначен только для подключения необходимых библиотек\n",
    "# запрещается подключать библиотеки в других блоках\n",
    "# запрещается скрывать предупреждения системы\n",
    "# установка дополнительных библиотек размещается прямо здесь (обязательно закоментированы)\n",
    "# pip install"
   ]
  },
  {
   "cell_type": "code",
   "execution_count": 32,
   "metadata": {},
   "outputs": [],
   "source": [
    "import numpy as np\n",
    "import pandas as pd\n",
    "import matplotlib.pyplot as plt\n",
    "import seaborn as sns\n",
    "\n",
    "from sklearn.model_selection import train_test_split \n",
    "from sklearn.neighbors import KNeighborsClassifier \n",
    "from sklearn.pipeline import Pipeline, make_pipeline\n",
    "from sklearn.preprocessing import MinMaxScaler, StandardScaler, RobustScaler, Normalizer\n",
    "from sklearn.metrics import roc_auc_score\n",
    "\n",
    "from sklearn.metrics import r2_score, mean_squared_error, make_scorer\n",
    "from sklearn.model_selection import cross_validate\n",
    "from sklearn.model_selection import GridSearchCV\n",
    "\n",
    "from sklearn.naive_bayes import BernoulliNB \n",
    "\n",
    "from sklearn.metrics import RocCurveDisplay\n",
    "from sklearn.metrics import roc_curve, roc_auc_score\n",
    "\n",
    "from sklearn.model_selection import GridSearchCV, KFold, StratifiedShuffleSplit\n",
    "\n",
    "from sklearn.model_selection import validation_curve\n",
    "from sklearn.model_selection import ShuffleSplit\n",
    "\n",
    "from sklearn.compose import ColumnTransformer, make_column_transformer, TransformedTargetRegressor\n",
    "\n",
    "from sklearn.experimental import enable_iterative_imputer\n",
    "from sklearn.impute import SimpleImputer, IterativeImputer, KNNImputer\n",
    "\n",
    "from sklearn.preprocessing import OrdinalEncoder,LabelEncoder, OneHotEncoder\n",
    "from sklearn.preprocessing import MinMaxScaler, PolynomialFeatures\n",
    "\n",
    "import category_encoders as ce\n",
    "\n",
    "from sklearn import svm\n",
    "from sklearn.svm import SVC\n",
    "\n",
    "import dtreeviz\n",
    "from matplotlib.colors import ListedColormap\n",
    "from sklearn.ensemble import RandomForestClassifier\n",
    "\n",
    "from sklearn import tree\n",
    "from sklearn.tree import export_graphviz\n",
    "#import pydotplus\n",
    "from IPython.display import Image\n",
    "\n",
    "from sklearn.metrics import f1_score\n",
    "\n",
    "from sklearn.ensemble import VotingClassifier\n",
    "\n",
    "from sklearn.ensemble import StackingClassifier\n",
    "from sklearn.model_selection import cross_validate\n",
    "\n",
    "from tqdm import tqdm"
   ]
  },
  {
   "cell_type": "code",
   "execution_count": null,
   "metadata": {},
   "outputs": [],
   "source": []
  },
  {
   "cell_type": "markdown",
   "metadata": {},
   "source": [
    "### Область работы 2 (выполнение лучшей модели)"
   ]
  },
  {
   "cell_type": "code",
   "execution_count": 4,
   "metadata": {},
   "outputs": [],
   "source": [
    "# Данный блок(и) в области 2 выполняется преподавателем\n",
    "#\n",
    "# В области находится одна, единственная, итоговая модель машинного обучения с однозначными, \n",
    "# зафиксированными параметрами\n",
    "#\n",
    "# В данной области категорически запрещается искать, выбирать, улучшать, оптимизировать, \n",
    "# тюниговать и т.д. модель машинного обучения"
   ]
  },
  {
   "cell_type": "code",
   "execution_count": 2,
   "metadata": {},
   "outputs": [],
   "source": [
    "# Путь к тренировочному набору\n",
    "path_train = pd.read_csv('train.csv') # содержит только имя файла, без имен папок\n",
    "# Путь к тестовому набору\n",
    "path_test  = pd.read_csv('test.csv') # содержит только имя файла, без имен папок"
   ]
  },
  {
   "cell_type": "code",
   "execution_count": 6,
   "metadata": {},
   "outputs": [],
   "source": [
    "# Блок(и) обучения и поверки модели"
   ]
  },
  {
   "cell_type": "code",
   "execution_count": 4,
   "metadata": {},
   "outputs": [
    {
     "data": {
      "text/html": [
       "<div>\n",
       "<style scoped>\n",
       "    .dataframe tbody tr th:only-of-type {\n",
       "        vertical-align: middle;\n",
       "    }\n",
       "\n",
       "    .dataframe tbody tr th {\n",
       "        vertical-align: top;\n",
       "    }\n",
       "\n",
       "    .dataframe thead th {\n",
       "        text-align: right;\n",
       "    }\n",
       "</style>\n",
       "<table border=\"1\" class=\"dataframe\">\n",
       "  <thead>\n",
       "    <tr style=\"text-align: right;\">\n",
       "      <th></th>\n",
       "      <th>C1</th>\n",
       "      <th>N2</th>\n",
       "      <th>N3</th>\n",
       "      <th>C4_enc</th>\n",
       "      <th>C5_enc</th>\n",
       "      <th>C6_enc</th>\n",
       "      <th>N7</th>\n",
       "      <th>C8</th>\n",
       "      <th>C9</th>\n",
       "      <th>N10</th>\n",
       "      <th>C11</th>\n",
       "      <th>C12_enc</th>\n",
       "      <th>N13</th>\n",
       "      <th>N14</th>\n",
       "      <th>Target</th>\n",
       "    </tr>\n",
       "  </thead>\n",
       "  <tbody>\n",
       "    <tr>\n",
       "      <th>0</th>\n",
       "      <td>1.0</td>\n",
       "      <td>28.00</td>\n",
       "      <td>2.000</td>\n",
       "      <td>2.0</td>\n",
       "      <td>4.0</td>\n",
       "      <td>8.0</td>\n",
       "      <td>4.165</td>\n",
       "      <td>1.0</td>\n",
       "      <td>1.0</td>\n",
       "      <td>2.0</td>\n",
       "      <td>1.0</td>\n",
       "      <td>2.0</td>\n",
       "      <td>181.0</td>\n",
       "      <td>1.0</td>\n",
       "      <td>1.0</td>\n",
       "    </tr>\n",
       "    <tr>\n",
       "      <th>1</th>\n",
       "      <td>1.0</td>\n",
       "      <td>36.25</td>\n",
       "      <td>5.000</td>\n",
       "      <td>2.0</td>\n",
       "      <td>8.0</td>\n",
       "      <td>5.0</td>\n",
       "      <td>2.500</td>\n",
       "      <td>1.0</td>\n",
       "      <td>1.0</td>\n",
       "      <td>6.0</td>\n",
       "      <td>0.0</td>\n",
       "      <td>2.0</td>\n",
       "      <td>0.0</td>\n",
       "      <td>368.0</td>\n",
       "      <td>1.0</td>\n",
       "    </tr>\n",
       "    <tr>\n",
       "      <th>2</th>\n",
       "      <td>0.0</td>\n",
       "      <td>29.50</td>\n",
       "      <td>2.000</td>\n",
       "      <td>1.0</td>\n",
       "      <td>10.0</td>\n",
       "      <td>8.0</td>\n",
       "      <td>2.000</td>\n",
       "      <td>0.0</td>\n",
       "      <td>0.0</td>\n",
       "      <td>0.0</td>\n",
       "      <td>0.0</td>\n",
       "      <td>2.0</td>\n",
       "      <td>256.0</td>\n",
       "      <td>18.0</td>\n",
       "      <td>0.0</td>\n",
       "    </tr>\n",
       "    <tr>\n",
       "      <th>3</th>\n",
       "      <td>1.0</td>\n",
       "      <td>22.67</td>\n",
       "      <td>0.165</td>\n",
       "      <td>2.0</td>\n",
       "      <td>8.0</td>\n",
       "      <td>3.0</td>\n",
       "      <td>2.250</td>\n",
       "      <td>0.0</td>\n",
       "      <td>0.0</td>\n",
       "      <td>0.0</td>\n",
       "      <td>1.0</td>\n",
       "      <td>1.0</td>\n",
       "      <td>0.0</td>\n",
       "      <td>1.0</td>\n",
       "      <td>1.0</td>\n",
       "    </tr>\n",
       "    <tr>\n",
       "      <th>4</th>\n",
       "      <td>0.0</td>\n",
       "      <td>25.75</td>\n",
       "      <td>0.500</td>\n",
       "      <td>2.0</td>\n",
       "      <td>8.0</td>\n",
       "      <td>8.0</td>\n",
       "      <td>0.875</td>\n",
       "      <td>1.0</td>\n",
       "      <td>0.0</td>\n",
       "      <td>0.0</td>\n",
       "      <td>1.0</td>\n",
       "      <td>2.0</td>\n",
       "      <td>491.0</td>\n",
       "      <td>1.0</td>\n",
       "      <td>1.0</td>\n",
       "    </tr>\n",
       "  </tbody>\n",
       "</table>\n",
       "</div>"
      ],
      "text/plain": [
       "    C1     N2     N3  C4_enc  C5_enc  C6_enc     N7   C8   C9  N10  C11  \\\n",
       "0  1.0  28.00  2.000     2.0     4.0     8.0  4.165  1.0  1.0  2.0  1.0   \n",
       "1  1.0  36.25  5.000     2.0     8.0     5.0  2.500  1.0  1.0  6.0  0.0   \n",
       "2  0.0  29.50  2.000     1.0    10.0     8.0  2.000  0.0  0.0  0.0  0.0   \n",
       "3  1.0  22.67  0.165     2.0     8.0     3.0  2.250  0.0  0.0  0.0  1.0   \n",
       "4  0.0  25.75  0.500     2.0     8.0     8.0  0.875  1.0  0.0  0.0  1.0   \n",
       "\n",
       "   C12_enc    N13    N14  Target  \n",
       "0      2.0  181.0    1.0     1.0  \n",
       "1      2.0    0.0  368.0     1.0  \n",
       "2      2.0  256.0   18.0     0.0  \n",
       "3      1.0    0.0    1.0     1.0  \n",
       "4      2.0  491.0    1.0     1.0  "
      ]
     },
     "execution_count": 4,
     "metadata": {},
     "output_type": "execute_result"
    }
   ],
   "source": [
    "df = path_train "
   ]
  },
  {
   "cell_type": "code",
   "execution_count": 5,
   "metadata": {},
   "outputs": [],
   "source": [
    "X = df.drop(['Target'], axis = 1)\n",
    "y = df['Target']\n",
    "cat_features = ['C4_enc','C5_enc','C6_enc','C12_enc']\n",
    "axis_features = ['C1','C8','C9','C11']\n",
    "num_features = ['N2', 'N3','N7','N10','N13','N14']"
   ]
  },
  {
   "cell_type": "code",
   "execution_count": 6,
   "metadata": {},
   "outputs": [],
   "source": [
    "X_train, X_test, y_train, y_test = train_test_split(X, y, test_size = 0.3)"
   ]
  },
  {
   "cell_type": "code",
   "execution_count": 7,
   "metadata": {},
   "outputs": [
    {
     "data": {
      "text/html": [
       "<style>#sk-container-id-1 {color: black;}#sk-container-id-1 pre{padding: 0;}#sk-container-id-1 div.sk-toggleable {background-color: white;}#sk-container-id-1 label.sk-toggleable__label {cursor: pointer;display: block;width: 100%;margin-bottom: 0;padding: 0.3em;box-sizing: border-box;text-align: center;}#sk-container-id-1 label.sk-toggleable__label-arrow:before {content: \"▸\";float: left;margin-right: 0.25em;color: #696969;}#sk-container-id-1 label.sk-toggleable__label-arrow:hover:before {color: black;}#sk-container-id-1 div.sk-estimator:hover label.sk-toggleable__label-arrow:before {color: black;}#sk-container-id-1 div.sk-toggleable__content {max-height: 0;max-width: 0;overflow: hidden;text-align: left;background-color: #f0f8ff;}#sk-container-id-1 div.sk-toggleable__content pre {margin: 0.2em;color: black;border-radius: 0.25em;background-color: #f0f8ff;}#sk-container-id-1 input.sk-toggleable__control:checked~div.sk-toggleable__content {max-height: 200px;max-width: 100%;overflow: auto;}#sk-container-id-1 input.sk-toggleable__control:checked~label.sk-toggleable__label-arrow:before {content: \"▾\";}#sk-container-id-1 div.sk-estimator input.sk-toggleable__control:checked~label.sk-toggleable__label {background-color: #d4ebff;}#sk-container-id-1 div.sk-label input.sk-toggleable__control:checked~label.sk-toggleable__label {background-color: #d4ebff;}#sk-container-id-1 input.sk-hidden--visually {border: 0;clip: rect(1px 1px 1px 1px);clip: rect(1px, 1px, 1px, 1px);height: 1px;margin: -1px;overflow: hidden;padding: 0;position: absolute;width: 1px;}#sk-container-id-1 div.sk-estimator {font-family: monospace;background-color: #f0f8ff;border: 1px dotted black;border-radius: 0.25em;box-sizing: border-box;margin-bottom: 0.5em;}#sk-container-id-1 div.sk-estimator:hover {background-color: #d4ebff;}#sk-container-id-1 div.sk-parallel-item::after {content: \"\";width: 100%;border-bottom: 1px solid gray;flex-grow: 1;}#sk-container-id-1 div.sk-label:hover label.sk-toggleable__label {background-color: #d4ebff;}#sk-container-id-1 div.sk-serial::before {content: \"\";position: absolute;border-left: 1px solid gray;box-sizing: border-box;top: 0;bottom: 0;left: 50%;z-index: 0;}#sk-container-id-1 div.sk-serial {display: flex;flex-direction: column;align-items: center;background-color: white;padding-right: 0.2em;padding-left: 0.2em;position: relative;}#sk-container-id-1 div.sk-item {position: relative;z-index: 1;}#sk-container-id-1 div.sk-parallel {display: flex;align-items: stretch;justify-content: center;background-color: white;position: relative;}#sk-container-id-1 div.sk-item::before, #sk-container-id-1 div.sk-parallel-item::before {content: \"\";position: absolute;border-left: 1px solid gray;box-sizing: border-box;top: 0;bottom: 0;left: 50%;z-index: -1;}#sk-container-id-1 div.sk-parallel-item {display: flex;flex-direction: column;z-index: 1;position: relative;background-color: white;}#sk-container-id-1 div.sk-parallel-item:first-child::after {align-self: flex-end;width: 50%;}#sk-container-id-1 div.sk-parallel-item:last-child::after {align-self: flex-start;width: 50%;}#sk-container-id-1 div.sk-parallel-item:only-child::after {width: 0;}#sk-container-id-1 div.sk-dashed-wrapped {border: 1px dashed gray;margin: 0 0.4em 0.5em 0.4em;box-sizing: border-box;padding-bottom: 0.4em;background-color: white;}#sk-container-id-1 div.sk-label label {font-family: monospace;font-weight: bold;display: inline-block;line-height: 1.2em;}#sk-container-id-1 div.sk-label-container {text-align: center;}#sk-container-id-1 div.sk-container {/* jupyter's `normalize.less` sets `[hidden] { display: none; }` but bootstrap.min.css set `[hidden] { display: none !important; }` so we also need the `!important` here to be able to override the default hidden behavior on the sphinx rendered scikit-learn.org. See: https://github.com/scikit-learn/scikit-learn/issues/21755 */display: inline-block !important;position: relative;}#sk-container-id-1 div.sk-text-repr-fallback {display: none;}</style><div id=\"sk-container-id-1\" class=\"sk-top-container\"><div class=\"sk-text-repr-fallback\"><pre>ColumnTransformer(transformers=[(&#x27;pol_std&#x27;,\n",
       "                                 Pipeline(steps=[(&#x27;polynom&#x27;,\n",
       "                                                  PolynomialFeatures(include_bias=False)),\n",
       "                                                 (&#x27;scaler&#x27;, StandardScaler())]),\n",
       "                                 [&#x27;C1&#x27;, &#x27;C8&#x27;, &#x27;C9&#x27;, &#x27;C11&#x27;]),\n",
       "                                (&#x27;num&#x27;, StandardScaler(),\n",
       "                                 [&#x27;N2&#x27;, &#x27;N3&#x27;, &#x27;N7&#x27;, &#x27;N10&#x27;, &#x27;N13&#x27;, &#x27;N14&#x27;]),\n",
       "                                (&#x27;cat&#x27;, OneHotEncoder(),\n",
       "                                 [&#x27;C4_enc&#x27;, &#x27;C5_enc&#x27;, &#x27;C6_enc&#x27;, &#x27;C12_enc&#x27;])])</pre><b>In a Jupyter environment, please rerun this cell to show the HTML representation or trust the notebook. <br />On GitHub, the HTML representation is unable to render, please try loading this page with nbviewer.org.</b></div><div class=\"sk-container\" hidden><div class=\"sk-item sk-dashed-wrapped\"><div class=\"sk-label-container\"><div class=\"sk-label sk-toggleable\"><input class=\"sk-toggleable__control sk-hidden--visually\" id=\"sk-estimator-id-1\" type=\"checkbox\" ><label for=\"sk-estimator-id-1\" class=\"sk-toggleable__label sk-toggleable__label-arrow\">ColumnTransformer</label><div class=\"sk-toggleable__content\"><pre>ColumnTransformer(transformers=[(&#x27;pol_std&#x27;,\n",
       "                                 Pipeline(steps=[(&#x27;polynom&#x27;,\n",
       "                                                  PolynomialFeatures(include_bias=False)),\n",
       "                                                 (&#x27;scaler&#x27;, StandardScaler())]),\n",
       "                                 [&#x27;C1&#x27;, &#x27;C8&#x27;, &#x27;C9&#x27;, &#x27;C11&#x27;]),\n",
       "                                (&#x27;num&#x27;, StandardScaler(),\n",
       "                                 [&#x27;N2&#x27;, &#x27;N3&#x27;, &#x27;N7&#x27;, &#x27;N10&#x27;, &#x27;N13&#x27;, &#x27;N14&#x27;]),\n",
       "                                (&#x27;cat&#x27;, OneHotEncoder(),\n",
       "                                 [&#x27;C4_enc&#x27;, &#x27;C5_enc&#x27;, &#x27;C6_enc&#x27;, &#x27;C12_enc&#x27;])])</pre></div></div></div><div class=\"sk-parallel\"><div class=\"sk-parallel-item\"><div class=\"sk-item\"><div class=\"sk-label-container\"><div class=\"sk-label sk-toggleable\"><input class=\"sk-toggleable__control sk-hidden--visually\" id=\"sk-estimator-id-2\" type=\"checkbox\" ><label for=\"sk-estimator-id-2\" class=\"sk-toggleable__label sk-toggleable__label-arrow\">pol_std</label><div class=\"sk-toggleable__content\"><pre>[&#x27;C1&#x27;, &#x27;C8&#x27;, &#x27;C9&#x27;, &#x27;C11&#x27;]</pre></div></div></div><div class=\"sk-serial\"><div class=\"sk-item\"><div class=\"sk-serial\"><div class=\"sk-item\"><div class=\"sk-estimator sk-toggleable\"><input class=\"sk-toggleable__control sk-hidden--visually\" id=\"sk-estimator-id-3\" type=\"checkbox\" ><label for=\"sk-estimator-id-3\" class=\"sk-toggleable__label sk-toggleable__label-arrow\">PolynomialFeatures</label><div class=\"sk-toggleable__content\"><pre>PolynomialFeatures(include_bias=False)</pre></div></div></div><div class=\"sk-item\"><div class=\"sk-estimator sk-toggleable\"><input class=\"sk-toggleable__control sk-hidden--visually\" id=\"sk-estimator-id-4\" type=\"checkbox\" ><label for=\"sk-estimator-id-4\" class=\"sk-toggleable__label sk-toggleable__label-arrow\">StandardScaler</label><div class=\"sk-toggleable__content\"><pre>StandardScaler()</pre></div></div></div></div></div></div></div></div><div class=\"sk-parallel-item\"><div class=\"sk-item\"><div class=\"sk-label-container\"><div class=\"sk-label sk-toggleable\"><input class=\"sk-toggleable__control sk-hidden--visually\" id=\"sk-estimator-id-5\" type=\"checkbox\" ><label for=\"sk-estimator-id-5\" class=\"sk-toggleable__label sk-toggleable__label-arrow\">num</label><div class=\"sk-toggleable__content\"><pre>[&#x27;N2&#x27;, &#x27;N3&#x27;, &#x27;N7&#x27;, &#x27;N10&#x27;, &#x27;N13&#x27;, &#x27;N14&#x27;]</pre></div></div></div><div class=\"sk-serial\"><div class=\"sk-item\"><div class=\"sk-estimator sk-toggleable\"><input class=\"sk-toggleable__control sk-hidden--visually\" id=\"sk-estimator-id-6\" type=\"checkbox\" ><label for=\"sk-estimator-id-6\" class=\"sk-toggleable__label sk-toggleable__label-arrow\">StandardScaler</label><div class=\"sk-toggleable__content\"><pre>StandardScaler()</pre></div></div></div></div></div></div><div class=\"sk-parallel-item\"><div class=\"sk-item\"><div class=\"sk-label-container\"><div class=\"sk-label sk-toggleable\"><input class=\"sk-toggleable__control sk-hidden--visually\" id=\"sk-estimator-id-7\" type=\"checkbox\" ><label for=\"sk-estimator-id-7\" class=\"sk-toggleable__label sk-toggleable__label-arrow\">cat</label><div class=\"sk-toggleable__content\"><pre>[&#x27;C4_enc&#x27;, &#x27;C5_enc&#x27;, &#x27;C6_enc&#x27;, &#x27;C12_enc&#x27;]</pre></div></div></div><div class=\"sk-serial\"><div class=\"sk-item\"><div class=\"sk-estimator sk-toggleable\"><input class=\"sk-toggleable__control sk-hidden--visually\" id=\"sk-estimator-id-8\" type=\"checkbox\" ><label for=\"sk-estimator-id-8\" class=\"sk-toggleable__label sk-toggleable__label-arrow\">OneHotEncoder</label><div class=\"sk-toggleable__content\"><pre>OneHotEncoder()</pre></div></div></div></div></div></div></div></div></div></div>"
      ],
      "text/plain": [
       "ColumnTransformer(transformers=[('pol_std',\n",
       "                                 Pipeline(steps=[('polynom',\n",
       "                                                  PolynomialFeatures(include_bias=False)),\n",
       "                                                 ('scaler', StandardScaler())]),\n",
       "                                 ['C1', 'C8', 'C9', 'C11']),\n",
       "                                ('num', StandardScaler(),\n",
       "                                 ['N2', 'N3', 'N7', 'N10', 'N13', 'N14']),\n",
       "                                ('cat', OneHotEncoder(),\n",
       "                                 ['C4_enc', 'C5_enc', 'C6_enc', 'C12_enc'])])"
      ]
     },
     "metadata": {},
     "output_type": "display_data"
    },
    {
     "data": {
      "text/html": [
       "<div>\n",
       "<style scoped>\n",
       "    .dataframe tbody tr th:only-of-type {\n",
       "        vertical-align: middle;\n",
       "    }\n",
       "\n",
       "    .dataframe tbody tr th {\n",
       "        vertical-align: top;\n",
       "    }\n",
       "\n",
       "    .dataframe thead th {\n",
       "        text-align: right;\n",
       "    }\n",
       "</style>\n",
       "<table border=\"1\" class=\"dataframe\">\n",
       "  <thead>\n",
       "    <tr style=\"text-align: right;\">\n",
       "      <th></th>\n",
       "      <th>0</th>\n",
       "      <th>1</th>\n",
       "      <th>2</th>\n",
       "      <th>3</th>\n",
       "      <th>4</th>\n",
       "      <th>5</th>\n",
       "      <th>6</th>\n",
       "      <th>7</th>\n",
       "      <th>8</th>\n",
       "      <th>9</th>\n",
       "      <th>...</th>\n",
       "      <th>38</th>\n",
       "      <th>39</th>\n",
       "      <th>40</th>\n",
       "      <th>41</th>\n",
       "      <th>42</th>\n",
       "      <th>43</th>\n",
       "      <th>44</th>\n",
       "      <th>45</th>\n",
       "      <th>46</th>\n",
       "      <th>47</th>\n",
       "    </tr>\n",
       "  </thead>\n",
       "  <tbody>\n",
       "    <tr>\n",
       "      <th>0</th>\n",
       "      <td>0.708401</td>\n",
       "      <td>0.952353</td>\n",
       "      <td>-0.889041</td>\n",
       "      <td>1.04491</td>\n",
       "      <td>0.708401</td>\n",
       "      <td>1.351882</td>\n",
       "      <td>-0.613057</td>\n",
       "      <td>1.396295</td>\n",
       "      <td>0.952353</td>\n",
       "      <td>-0.708401</td>\n",
       "      <td>...</td>\n",
       "      <td>0.0</td>\n",
       "      <td>0.0</td>\n",
       "      <td>1.0</td>\n",
       "      <td>0.0</td>\n",
       "      <td>0.0</td>\n",
       "      <td>0.0</td>\n",
       "      <td>0.0</td>\n",
       "      <td>0.0</td>\n",
       "      <td>1.0</td>\n",
       "      <td>0.0</td>\n",
       "    </tr>\n",
       "    <tr>\n",
       "      <th>1</th>\n",
       "      <td>0.708401</td>\n",
       "      <td>0.952353</td>\n",
       "      <td>1.124808</td>\n",
       "      <td>1.04491</td>\n",
       "      <td>0.708401</td>\n",
       "      <td>1.351882</td>\n",
       "      <td>1.631170</td>\n",
       "      <td>1.396295</td>\n",
       "      <td>0.952353</td>\n",
       "      <td>1.411631</td>\n",
       "      <td>...</td>\n",
       "      <td>0.0</td>\n",
       "      <td>0.0</td>\n",
       "      <td>1.0</td>\n",
       "      <td>0.0</td>\n",
       "      <td>0.0</td>\n",
       "      <td>0.0</td>\n",
       "      <td>0.0</td>\n",
       "      <td>0.0</td>\n",
       "      <td>1.0</td>\n",
       "      <td>0.0</td>\n",
       "    </tr>\n",
       "    <tr>\n",
       "      <th>2</th>\n",
       "      <td>0.708401</td>\n",
       "      <td>-1.050031</td>\n",
       "      <td>-0.889041</td>\n",
       "      <td>-0.95702</td>\n",
       "      <td>0.708401</td>\n",
       "      <td>-0.739709</td>\n",
       "      <td>-0.613057</td>\n",
       "      <td>-0.716181</td>\n",
       "      <td>-1.050031</td>\n",
       "      <td>-0.708401</td>\n",
       "      <td>...</td>\n",
       "      <td>0.0</td>\n",
       "      <td>0.0</td>\n",
       "      <td>1.0</td>\n",
       "      <td>0.0</td>\n",
       "      <td>0.0</td>\n",
       "      <td>0.0</td>\n",
       "      <td>0.0</td>\n",
       "      <td>0.0</td>\n",
       "      <td>1.0</td>\n",
       "      <td>0.0</td>\n",
       "    </tr>\n",
       "    <tr>\n",
       "      <th>3</th>\n",
       "      <td>0.708401</td>\n",
       "      <td>-1.050031</td>\n",
       "      <td>-0.889041</td>\n",
       "      <td>-0.95702</td>\n",
       "      <td>0.708401</td>\n",
       "      <td>-0.739709</td>\n",
       "      <td>-0.613057</td>\n",
       "      <td>-0.716181</td>\n",
       "      <td>-1.050031</td>\n",
       "      <td>-0.708401</td>\n",
       "      <td>...</td>\n",
       "      <td>0.0</td>\n",
       "      <td>0.0</td>\n",
       "      <td>1.0</td>\n",
       "      <td>0.0</td>\n",
       "      <td>0.0</td>\n",
       "      <td>0.0</td>\n",
       "      <td>0.0</td>\n",
       "      <td>0.0</td>\n",
       "      <td>1.0</td>\n",
       "      <td>0.0</td>\n",
       "    </tr>\n",
       "    <tr>\n",
       "      <th>4</th>\n",
       "      <td>0.708401</td>\n",
       "      <td>0.952353</td>\n",
       "      <td>1.124808</td>\n",
       "      <td>1.04491</td>\n",
       "      <td>0.708401</td>\n",
       "      <td>1.351882</td>\n",
       "      <td>1.631170</td>\n",
       "      <td>1.396295</td>\n",
       "      <td>0.952353</td>\n",
       "      <td>1.411631</td>\n",
       "      <td>...</td>\n",
       "      <td>0.0</td>\n",
       "      <td>0.0</td>\n",
       "      <td>1.0</td>\n",
       "      <td>0.0</td>\n",
       "      <td>0.0</td>\n",
       "      <td>0.0</td>\n",
       "      <td>0.0</td>\n",
       "      <td>0.0</td>\n",
       "      <td>1.0</td>\n",
       "      <td>0.0</td>\n",
       "    </tr>\n",
       "  </tbody>\n",
       "</table>\n",
       "<p>5 rows × 48 columns</p>\n",
       "</div>"
      ],
      "text/plain": [
       "         0         1         2        3         4         5         6   \\\n",
       "0  0.708401  0.952353 -0.889041  1.04491  0.708401  1.351882 -0.613057   \n",
       "1  0.708401  0.952353  1.124808  1.04491  0.708401  1.351882  1.631170   \n",
       "2  0.708401 -1.050031 -0.889041 -0.95702  0.708401 -0.739709 -0.613057   \n",
       "3  0.708401 -1.050031 -0.889041 -0.95702  0.708401 -0.739709 -0.613057   \n",
       "4  0.708401  0.952353  1.124808  1.04491  0.708401  1.351882  1.631170   \n",
       "\n",
       "         7         8         9   ...   38   39   40   41   42   43   44   45  \\\n",
       "0  1.396295  0.952353 -0.708401  ...  0.0  0.0  1.0  0.0  0.0  0.0  0.0  0.0   \n",
       "1  1.396295  0.952353  1.411631  ...  0.0  0.0  1.0  0.0  0.0  0.0  0.0  0.0   \n",
       "2 -0.716181 -1.050031 -0.708401  ...  0.0  0.0  1.0  0.0  0.0  0.0  0.0  0.0   \n",
       "3 -0.716181 -1.050031 -0.708401  ...  0.0  0.0  1.0  0.0  0.0  0.0  0.0  0.0   \n",
       "4  1.396295  0.952353  1.411631  ...  0.0  0.0  1.0  0.0  0.0  0.0  0.0  0.0   \n",
       "\n",
       "    46   47  \n",
       "0  1.0  0.0  \n",
       "1  1.0  0.0  \n",
       "2  1.0  0.0  \n",
       "3  1.0  0.0  \n",
       "4  1.0  0.0  \n",
       "\n",
       "[5 rows x 48 columns]"
      ]
     },
     "execution_count": 7,
     "metadata": {},
     "output_type": "execute_result"
    }
   ],
   "source": [
    "axis_transformer = Pipeline(steps=[\n",
    "    ('polynom', PolynomialFeatures(2,include_bias=False)),\n",
    "    ('scaler', StandardScaler())])\n",
    "\n",
    "CT = ColumnTransformer([\n",
    "        (\"pol_std\", axis_transformer, axis_features),\n",
    "        (\"num\", StandardScaler(), num_features),\n",
    "        (\"cat\", OneHotEncoder(), cat_features)\n",
    "        ])\n",
    "\n",
    "display(CT)\n",
    "\n",
    "res_ct = CT.fit_transform(X_train)\n",
    "pd.DataFrame(res_ct).head()"
   ]
  },
  {
   "cell_type": "code",
   "execution_count": 8,
   "metadata": {},
   "outputs": [
    {
     "data": {
      "text/html": [
       "<div>\n",
       "<style scoped>\n",
       "    .dataframe tbody tr th:only-of-type {\n",
       "        vertical-align: middle;\n",
       "    }\n",
       "\n",
       "    .dataframe tbody tr th {\n",
       "        vertical-align: top;\n",
       "    }\n",
       "\n",
       "    .dataframe thead th {\n",
       "        text-align: right;\n",
       "    }\n",
       "</style>\n",
       "<table border=\"1\" class=\"dataframe\">\n",
       "  <thead>\n",
       "    <tr style=\"text-align: right;\">\n",
       "      <th></th>\n",
       "      <th>knnimputer__N2</th>\n",
       "      <th>knnimputer__N3</th>\n",
       "      <th>knnimputer__N7</th>\n",
       "      <th>knnimputer__N10</th>\n",
       "      <th>knnimputer__N13</th>\n",
       "      <th>knnimputer__N14</th>\n",
       "    </tr>\n",
       "  </thead>\n",
       "  <tbody>\n",
       "    <tr>\n",
       "      <th>86</th>\n",
       "      <td>21.50</td>\n",
       "      <td>11.500</td>\n",
       "      <td>0.50</td>\n",
       "      <td>0.0</td>\n",
       "      <td>100.0</td>\n",
       "      <td>69.0</td>\n",
       "    </tr>\n",
       "    <tr>\n",
       "      <th>18</th>\n",
       "      <td>29.17</td>\n",
       "      <td>3.500</td>\n",
       "      <td>3.50</td>\n",
       "      <td>3.0</td>\n",
       "      <td>329.0</td>\n",
       "      <td>1.0</td>\n",
       "    </tr>\n",
       "    <tr>\n",
       "      <th>151</th>\n",
       "      <td>29.83</td>\n",
       "      <td>1.250</td>\n",
       "      <td>0.25</td>\n",
       "      <td>0.0</td>\n",
       "      <td>224.0</td>\n",
       "      <td>1.0</td>\n",
       "    </tr>\n",
       "    <tr>\n",
       "      <th>203</th>\n",
       "      <td>37.50</td>\n",
       "      <td>0.835</td>\n",
       "      <td>0.04</td>\n",
       "      <td>0.0</td>\n",
       "      <td>120.0</td>\n",
       "      <td>6.0</td>\n",
       "    </tr>\n",
       "    <tr>\n",
       "      <th>359</th>\n",
       "      <td>20.50</td>\n",
       "      <td>2.415</td>\n",
       "      <td>2.00</td>\n",
       "      <td>11.0</td>\n",
       "      <td>200.0</td>\n",
       "      <td>3001.0</td>\n",
       "    </tr>\n",
       "  </tbody>\n",
       "</table>\n",
       "</div>"
      ],
      "text/plain": [
       "     knnimputer__N2  knnimputer__N3  knnimputer__N7  knnimputer__N10  \\\n",
       "86            21.50          11.500            0.50              0.0   \n",
       "18            29.17           3.500            3.50              3.0   \n",
       "151           29.83           1.250            0.25              0.0   \n",
       "203           37.50           0.835            0.04              0.0   \n",
       "359           20.50           2.415            2.00             11.0   \n",
       "\n",
       "     knnimputer__N13  knnimputer__N14  \n",
       "86             100.0             69.0  \n",
       "18             329.0              1.0  \n",
       "151            224.0              1.0  \n",
       "203            120.0              6.0  \n",
       "359            200.0           3001.0  "
      ]
     },
     "metadata": {},
     "output_type": "display_data"
    },
    {
     "data": {
      "text/html": [
       "<div>\n",
       "<style scoped>\n",
       "    .dataframe tbody tr th:only-of-type {\n",
       "        vertical-align: middle;\n",
       "    }\n",
       "\n",
       "    .dataframe tbody tr th {\n",
       "        vertical-align: top;\n",
       "    }\n",
       "\n",
       "    .dataframe thead th {\n",
       "        text-align: right;\n",
       "    }\n",
       "</style>\n",
       "<table border=\"1\" class=\"dataframe\">\n",
       "  <thead>\n",
       "    <tr style=\"text-align: right;\">\n",
       "      <th></th>\n",
       "      <th>knnimputer__N2</th>\n",
       "      <th>knnimputer__N3</th>\n",
       "      <th>knnimputer__N7</th>\n",
       "      <th>knnimputer__N10</th>\n",
       "      <th>knnimputer__N13</th>\n",
       "      <th>knnimputer__N14</th>\n",
       "    </tr>\n",
       "  </thead>\n",
       "  <tbody>\n",
       "    <tr>\n",
       "      <th>count</th>\n",
       "      <td>410.000000</td>\n",
       "      <td>410.000000</td>\n",
       "      <td>410.000000</td>\n",
       "      <td>410.000000</td>\n",
       "      <td>410.000000</td>\n",
       "      <td>410.000000</td>\n",
       "    </tr>\n",
       "    <tr>\n",
       "      <th>mean</th>\n",
       "      <td>32.139073</td>\n",
       "      <td>4.727622</td>\n",
       "      <td>2.432427</td>\n",
       "      <td>2.490244</td>\n",
       "      <td>173.073171</td>\n",
       "      <td>1157.648780</td>\n",
       "    </tr>\n",
       "    <tr>\n",
       "      <th>std</th>\n",
       "      <td>12.173578</td>\n",
       "      <td>4.733643</td>\n",
       "      <td>3.525042</td>\n",
       "      <td>4.362673</td>\n",
       "      <td>143.922179</td>\n",
       "      <td>6084.050311</td>\n",
       "    </tr>\n",
       "    <tr>\n",
       "      <th>min</th>\n",
       "      <td>13.750000</td>\n",
       "      <td>0.000000</td>\n",
       "      <td>0.000000</td>\n",
       "      <td>0.000000</td>\n",
       "      <td>0.000000</td>\n",
       "      <td>1.000000</td>\n",
       "    </tr>\n",
       "    <tr>\n",
       "      <th>25%</th>\n",
       "      <td>22.940000</td>\n",
       "      <td>1.095000</td>\n",
       "      <td>0.210000</td>\n",
       "      <td>0.000000</td>\n",
       "      <td>60.500000</td>\n",
       "      <td>1.000000</td>\n",
       "    </tr>\n",
       "    <tr>\n",
       "      <th>50%</th>\n",
       "      <td>29.540000</td>\n",
       "      <td>3.000000</td>\n",
       "      <td>1.000000</td>\n",
       "      <td>0.000000</td>\n",
       "      <td>160.000000</td>\n",
       "      <td>7.000000</td>\n",
       "    </tr>\n",
       "    <tr>\n",
       "      <th>75%</th>\n",
       "      <td>38.730000</td>\n",
       "      <td>7.030000</td>\n",
       "      <td>3.085000</td>\n",
       "      <td>3.000000</td>\n",
       "      <td>260.000000</td>\n",
       "      <td>501.000000</td>\n",
       "    </tr>\n",
       "    <tr>\n",
       "      <th>max</th>\n",
       "      <td>80.250000</td>\n",
       "      <td>28.000000</td>\n",
       "      <td>28.500000</td>\n",
       "      <td>40.000000</td>\n",
       "      <td>720.000000</td>\n",
       "      <td>100001.000000</td>\n",
       "    </tr>\n",
       "  </tbody>\n",
       "</table>\n",
       "</div>"
      ],
      "text/plain": [
       "       knnimputer__N2  knnimputer__N3  knnimputer__N7  knnimputer__N10  \\\n",
       "count      410.000000      410.000000      410.000000       410.000000   \n",
       "mean        32.139073        4.727622        2.432427         2.490244   \n",
       "std         12.173578        4.733643        3.525042         4.362673   \n",
       "min         13.750000        0.000000        0.000000         0.000000   \n",
       "25%         22.940000        1.095000        0.210000         0.000000   \n",
       "50%         29.540000        3.000000        1.000000         0.000000   \n",
       "75%         38.730000        7.030000        3.085000         3.000000   \n",
       "max         80.250000       28.000000       28.500000        40.000000   \n",
       "\n",
       "       knnimputer__N13  knnimputer__N14  \n",
       "count       410.000000       410.000000  \n",
       "mean        173.073171      1157.648780  \n",
       "std         143.922179      6084.050311  \n",
       "min           0.000000         1.000000  \n",
       "25%          60.500000         1.000000  \n",
       "50%         160.000000         7.000000  \n",
       "75%         260.000000       501.000000  \n",
       "max         720.000000    100001.000000  "
      ]
     },
     "execution_count": 8,
     "metadata": {},
     "output_type": "execute_result"
    }
   ],
   "source": [
    "column_trans = make_column_transformer(\n",
    "    (KNNImputer(missing_values=np.nan, n_neighbors=3, weights=\"uniform\"), ['N2', 'N3','N7','N10','N13','N14']) \n",
    "     )\n",
    "\n",
    "X_ct = column_trans.fit_transform(X_train)\n",
    "\n",
    "df_knn = pd.DataFrame(X_ct, columns = column_trans.get_feature_names_out(), index = X_train.index)\n",
    "display(df_knn.head())\n",
    "df_knn.describe()"
   ]
  },
  {
   "cell_type": "code",
   "execution_count": 17,
   "metadata": {},
   "outputs": [
    {
     "name": "stdout",
     "output_type": "stream",
     "text": [
      "Средняя правильность для наилучшей модели кроссвалидации на\n",
      "валидационных тестовых наборах: 0.846746\n",
      "\n",
      "Правильность для наилучшей модели на тестовом наборе: 0.876543\n",
      "\n"
     ]
    }
   ],
   "source": [
    "pipe = Pipeline([('preprocessing', [MinMaxScaler(), RobustScaler(),StandardScaler()]), \n",
    "                 ('regressor',    KNeighborsClassifier())])\n",
    "\n",
    "kfold = KFold(n_splits=10, shuffle=True)\n",
    "\n",
    "\n",
    "p = [2]\n",
    "weights = ['uniform']\n",
    "n_neighbors = [94]\n",
    "scaling = [MinMaxScaler()]\n",
    "\n",
    "param_grid =[\n",
    "    {'preprocessing': scaling, \n",
    "     'regressor': [KNeighborsClassifier()],\n",
    "         'regressor__n_neighbors': n_neighbors,\n",
    "         'regressor__p': p,\n",
    "         'regressor__weights': weights\n",
    "     }]\n",
    "\n",
    "grid = GridSearchCV(pipe, param_grid, cv=kfold, scoring='f1', n_jobs = -1,return_train_score=True)\n",
    "grid.fit(X_train,y_train)\n",
    "grid\n",
    "print(\"Средняя правильность для наилучшей модели кроссвалидации на\" '\\n'\n",
    "      \"валидационных тестовых наборах: {:.6f}\\n\".format(grid.best_score_)) \n",
    "print(\"Правильность для наилучшей модели на тестовом наборе: {:.6f}\\n\".format(grid.score(X_test, y_test)))\n"
   ]
  },
  {
   "cell_type": "code",
   "execution_count": 42,
   "metadata": {},
   "outputs": [
    {
     "name": "stdout",
     "output_type": "stream",
     "text": [
      "0.8641975308641975 0.8936170212765957\n"
     ]
    }
   ],
   "source": [
    "porogi = np.unique(grid.predict_proba(X_test)[:,1])\n",
    "proba = grid.predict_proba(X_test)[:,1]\n",
    "\n",
    "max_f1 = 0\n",
    "max_por = 0\n",
    "\n",
    "y_pred = grid.predict_proba(X_test)[:,1]\n",
    "\n",
    "for i in porogi:\n",
    "    y_pred_class = (y_pred>i).astype(int)\n",
    "    f1_c = f1_score(y_test,y_pred_class)\n",
    "    \n",
    "    if f1_c > max_f1:\n",
    "        max_f1 = f1_c\n",
    "        max_por = i\n",
    "print(max_f1, i)"
   ]
  },
  {
   "cell_type": "code",
   "execution_count": 46,
   "metadata": {},
   "outputs": [
    {
     "name": "stderr",
     "output_type": "stream",
     "text": [
      "100%|██████████████████████████████████████████████████████████████████████████████████| 10/10 [00:01<00:00,  5.68it/s]\n"
     ]
    }
   ],
   "source": [
    "f1_list = []\n",
    "for i in tqdm(range(10)): \n",
    "    \n",
    "    X_train, X_test, y_train, y_test = train_test_split(df.drop(columns = ['Target']), df.Target, test_size=0.3,\n",
    "                                                    stratify=df.Target)   \n",
    "    grid.fit(X_train, y_train)\n",
    "    \n",
    "    y_pred = grid.predict(X_test)\n",
    "    \n",
    "    f1_list.append(f1_score(y_test, y_pred))\n",
    "    \n",
    "mean_f1 = np.array(f1_list).mean()\n",
    "std_f1 = np.array(f1_list).std()"
   ]
  },
  {
   "cell_type": "code",
   "execution_count": 47,
   "metadata": {},
   "outputs": [
    {
     "name": "stdout",
     "output_type": "stream",
     "text": [
      "CI(f1) = [0.8225841945807296; 0.9008051818703585]\n",
      "mean f1: 0.8616946882255441\n"
     ]
    }
   ],
   "source": [
    "print(f'CI(f1) = [{mean_f1 - 1.96*(std_f1)}; {mean_f1 + 1.96*(std_f1)}]')\n",
    "print(f'mean f1: {mean_f1}')"
   ]
  },
  {
   "cell_type": "code",
   "execution_count": 25,
   "metadata": {},
   "outputs": [
    {
     "name": "stdout",
     "output_type": "stream",
     "text": [
      "Средняя правильность для наилучшей модели кроссвалидации на\n",
      "валидационных тестовых наборах: 0.846746\n",
      "\n",
      "Правильность для наилучшей модели на тестовом наборе: 0.857955\n",
      "\n"
     ]
    }
   ],
   "source": [
    "clf = make_pipeline(MinMaxScaler(), SVC(gamma='auto'))\n",
    "clf.fit(X_train, y_train)\n",
    "pipe = Pipeline([('preprocessing', [MinMaxScaler()]), \n",
    "                 ('classifier', svm.SVC())])\n",
    "\n",
    "kfold = KFold(n_splits=10, shuffle=True)\n",
    "\n",
    "\n",
    "C=[0.1]\n",
    "gamma=[1]\n",
    "\n",
    "param_grid =[\n",
    "    {'preprocessing': [MinMaxScaler()], \n",
    "     'classifier': [svm.SVC()],\n",
    "     'classifier__C': C,\n",
    "     'classifier__gamma': gamma,\n",
    "     'classifier__probability' : [True]\n",
    "     }\n",
    "]\n",
    "\n",
    "grid1 = GridSearchCV(pipe, param_grid, cv=kfold, return_train_score=True, n_jobs = -1)\n",
    "grid1.fit(X_train,y_train)\n",
    "\n",
    "print(\"Средняя правильность для наилучшей модели кроссвалидации на\" '\\n'\n",
    "      \"валидационных тестовых наборах: {:.6f}\\n\".format(grid.best_score_)) \n",
    "print(\"Правильность для наилучшей модели на тестовом наборе: {:.6f}\\n\".format(grid1.score(X_test, y_test)))"
   ]
  },
  {
   "cell_type": "code",
   "execution_count": 43,
   "metadata": {},
   "outputs": [
    {
     "name": "stdout",
     "output_type": "stream",
     "text": [
      "0.8674698795180724 0.933040452591211\n"
     ]
    }
   ],
   "source": [
    "porogi = np.unique(grid1.predict_proba(X_test)[:,1])\n",
    "proba = grid1.predict_proba(X_test)[:,1]\n",
    "\n",
    "max_f1 = 0\n",
    "max_por = 0\n",
    "\n",
    "y_pred = grid1.predict_proba(X_test)[:,1]\n",
    "\n",
    "for i in porogi:\n",
    "    y_pred_class = (y_pred>i).astype(int)\n",
    "    f1_c = f1_score(y_test,y_pred_class)\n",
    "    \n",
    "    if f1_c > max_f1:\n",
    "        max_f1 = f1_c\n",
    "        max_por = i\n",
    "print(max_f1, i)"
   ]
  },
  {
   "cell_type": "code",
   "execution_count": 48,
   "metadata": {},
   "outputs": [
    {
     "name": "stderr",
     "output_type": "stream",
     "text": [
      "100%|██████████████████████████████████████████████████████████████████████████████████| 10/10 [00:01<00:00,  5.30it/s]\n"
     ]
    }
   ],
   "source": [
    "f1_list = []\n",
    "for i in tqdm(range(10)): \n",
    "    \n",
    "    X_train, X_test, y_train, y_test = train_test_split(df.drop(columns = ['Target']), df.Target, test_size=0.3,\n",
    "                                                    stratify=df.Target)   \n",
    "    grid1.fit(X_train, y_train)\n",
    "    \n",
    "    y_pred = grid1.predict(X_test)\n",
    "    \n",
    "    f1_list.append(f1_score(y_test, y_pred))\n",
    "    \n",
    "mean_f1 = np.array(f1_list).mean()\n",
    "std_f1 = np.array(f1_list).std()"
   ]
  },
  {
   "cell_type": "code",
   "execution_count": 49,
   "metadata": {},
   "outputs": [
    {
     "name": "stdout",
     "output_type": "stream",
     "text": [
      "CI(f1) = [0.7864891975454045; 0.8824799443295199]\n",
      "mean f1: 0.8344845709374622\n"
     ]
    }
   ],
   "source": [
    "print(f'CI(f1) = [{mean_f1 - 1.96*(std_f1)}; {mean_f1 + 1.96*(std_f1)}]')\n",
    "print(f'mean f1: {mean_f1}')"
   ]
  },
  {
   "cell_type": "code",
   "execution_count": 18,
   "metadata": {},
   "outputs": [
    {
     "name": "stdout",
     "output_type": "stream",
     "text": [
      "Средняя правильность для наилучшей модели кроссвалидации на\n",
      "валидационных тестовых наборах: 0.846746\n",
      "\n",
      "Правильность для наилучшей модели на тестовом наборе: 0.857955\n",
      "\n"
     ]
    }
   ],
   "source": [
    "rf1 = RandomForestClassifier()\n",
    "\n",
    "pipe = Pipeline([('preprocessing', [MinMaxScaler(), RobustScaler(), StandardScaler()]), \n",
    "                 ('classifier', rf1)])\n",
    "\n",
    "kfold = KFold(n_splits=10, shuffle=True)\n",
    "\n",
    "param_grid = [\n",
    "    { \n",
    "     \n",
    "    'n_estimators': [500],\n",
    "    'max_features': ['log2'],\n",
    "    'max_depth' : [8],\n",
    "    'criterion' : ['gini'],\n",
    "    'min_samples_leaf' : [1]\n",
    "}\n",
    "             ]\n",
    "CV_rf = GridSearchCV(rf1, param_grid=param_grid, cv= kfold, n_jobs = -1, return_train_score=True)\n",
    "CV_rf.fit(X_train, y_train)\n",
    "print(\"Средняя правильность для наилучшей модели кроссвалидации на\" '\\n'\n",
    "      \"валидационных тестовых наборах: {:.6f}\\n\".format(grid.best_score_)) \n",
    "print(\"Правильность для наилучшей модели на тестовом наборе: {:.6f}\\n\".format(grid1.score(X_test, y_test)))"
   ]
  },
  {
   "cell_type": "code",
   "execution_count": 44,
   "metadata": {},
   "outputs": [
    {
     "name": "stdout",
     "output_type": "stream",
     "text": [
      "0.967741935483871 0.9971042857142858\n"
     ]
    }
   ],
   "source": [
    "porogi = np.unique(CV_rf.predict_proba(X_test)[:,1])\n",
    "proba = CV_rf.predict_proba(X_test)[:,1]\n",
    "\n",
    "max_f1 = 0\n",
    "max_por = 0\n",
    "\n",
    "y_pred = CV_rf.predict_proba(X_test)[:,1]\n",
    "\n",
    "for i in porogi:\n",
    "    y_pred_class = (y_pred>i).astype(int)\n",
    "    f1_c = f1_score(y_test,y_pred_class)\n",
    "    \n",
    "    if f1_c > max_f1:\n",
    "        max_f1 = f1_c\n",
    "        max_por = i\n",
    "print(max_f1, i)"
   ]
  },
  {
   "cell_type": "code",
   "execution_count": 50,
   "metadata": {},
   "outputs": [
    {
     "name": "stderr",
     "output_type": "stream",
     "text": [
      "100%|██████████████████████████████████████████████████████████████████████████████████| 10/10 [00:26<00:00,  2.65s/it]\n"
     ]
    }
   ],
   "source": [
    "f1_list = []\n",
    "for i in tqdm(range(10)): \n",
    "    \n",
    "    X_train, X_test, y_train, y_test = train_test_split(df.drop(columns = ['Target']), df.Target, test_size=0.3,\n",
    "                                                    stratify=df.Target)   \n",
    "    CV_rf.fit(X_train, y_train)\n",
    "    \n",
    "    y_pred = CV_rf.predict(X_test)\n",
    "    \n",
    "    f1_list.append(f1_score(y_test, y_pred))\n",
    "    \n",
    "mean_f1 = np.array(f1_list).mean()\n",
    "std_f1 = np.array(f1_list).std()"
   ]
  },
  {
   "cell_type": "code",
   "execution_count": 51,
   "metadata": {},
   "outputs": [
    {
     "name": "stdout",
     "output_type": "stream",
     "text": [
      "CI(f1) = [0.835851970857911; 0.8915618569783955]\n",
      "mean f1: 0.8637069139181532\n"
     ]
    }
   ],
   "source": [
    "print(f'CI(f1) = [{mean_f1 - 1.96*(std_f1)}; {mean_f1 + 1.96*(std_f1)}]')\n",
    "print(f'mean f1: {mean_f1}')"
   ]
  },
  {
   "cell_type": "code",
   "execution_count": 19,
   "metadata": {},
   "outputs": [],
   "source": [
    "clf_v1 = grid\n",
    "clf_v2 = grid1\n",
    "clf_v3 = CV_rf"
   ]
  },
  {
   "cell_type": "code",
   "execution_count": 53,
   "metadata": {},
   "outputs": [
    {
     "name": "stdout",
     "output_type": "stream",
     "text": [
      "Правильность для наилучшей модели на тестовом наборе: 0.909091\n",
      "\n"
     ]
    }
   ],
   "source": [
    "e_s_clf = StackingClassifier(\n",
    "        estimators = [\n",
    "            ('knn', clf_v1), \n",
    "            ('svm', clf_v2), \n",
    "            ('rf', clf_v3)],\n",
    "        final_estimator = RandomForestClassifier(n_estimators=50),\n",
    "        stack_method = 'predict',\n",
    "        n_jobs = -1\n",
    ")\n",
    "\n",
    "e_s_clf.fit(X_train,y_train)\n",
    "\n",
    "print(\"Правильность для наилучшей модели на тестовом наборе: {:.6f}\\n\".format(e_s_clf.score(X_test, y_test)))"
   ]
  },
  {
   "cell_type": "code",
   "execution_count": 55,
   "metadata": {},
   "outputs": [
    {
     "name": "stderr",
     "output_type": "stream",
     "text": [
      "100%|██████████████████████████████████████████████████████████████████████████████████| 10/10 [07:27<00:00, 44.72s/it]\n"
     ]
    }
   ],
   "source": [
    "f1_list = []\n",
    "for i in tqdm(range(10)): \n",
    "    \n",
    "    X_train, X_test, y_train, y_test = train_test_split(df.drop(columns = ['Target']), df.Target, test_size=0.3,\n",
    "                                                    stratify=df.Target)   \n",
    "    e_s_clf.fit(X_train, y_train)\n",
    "    \n",
    "    y_pred = e_s_clf.predict(X_test)\n",
    "    \n",
    "    f1_list.append(f1_score(y_test, y_pred))\n",
    "    \n",
    "mean_f1 = np.array(f1_list).mean()\n",
    "std_f1 = np.array(f1_list).std()"
   ]
  },
  {
   "cell_type": "code",
   "execution_count": 56,
   "metadata": {},
   "outputs": [
    {
     "name": "stdout",
     "output_type": "stream",
     "text": [
      "CI(f1) = [0.8001124659837832; 0.9034379859543521]\n",
      "mean f1: 0.8517752259690676\n"
     ]
    }
   ],
   "source": [
    "print(f'CI(f1) = [{mean_f1 - 1.96*(std_f1)}; {mean_f1 + 1.96*(std_f1)}]')\n",
    "print(f'mean f1: {mean_f1}')"
   ]
  },
  {
   "cell_type": "markdown",
   "metadata": {},
   "source": [
    "Долго думала, в итоге боле доверяю метамодельке, несмотря на невыгодный матож. Прошу понять и простить!"
   ]
  },
  {
   "cell_type": "markdown",
   "metadata": {},
   "source": [
    "Бустинга не будет, пока не разобралась. К контрольной пойму, приму и осознаю, честное слово!"
   ]
  },
  {
   "cell_type": "code",
   "execution_count": 7,
   "metadata": {},
   "outputs": [],
   "source": [
    "# Блок предсказания с использованием тестового набора"
   ]
  },
  {
   "cell_type": "code",
   "execution_count": 40,
   "metadata": {},
   "outputs": [],
   "source": [
    "y_predicted = e_s_clf.predict(X_test)"
   ]
  },
  {
   "cell_type": "code",
   "execution_count": 41,
   "metadata": {},
   "outputs": [
    {
     "data": {
      "text/plain": [
       "array([1., 0., 0., 0., 1., 1., 1., 0., 0., 0., 0., 1., 0., 0., 1., 0., 0.,\n",
       "       1., 1., 1., 0., 1., 1., 0., 1., 0., 0., 1., 1., 0., 0., 1., 1., 0.,\n",
       "       0., 1., 1., 0., 0., 0., 1., 0., 0., 1., 0., 0., 0., 1., 1., 1., 0.,\n",
       "       0., 0., 0., 0., 0., 0., 0., 1., 0., 0., 1., 1., 0., 0., 0., 1., 0.,\n",
       "       0., 0., 1., 0., 1., 1., 1., 1., 0., 0., 0., 0., 1., 1., 0., 0., 1.,\n",
       "       0., 1., 0., 1., 1., 0., 1., 1., 1., 0., 0., 0., 0., 0., 0., 1., 1.,\n",
       "       0., 1., 1., 1., 1., 0., 1., 0., 0., 0., 0., 1., 0., 0., 1., 1., 1.,\n",
       "       0., 1., 0., 0., 0., 0., 1., 1., 1., 0., 1., 0., 1., 1., 0., 1., 0.,\n",
       "       1., 0., 1., 0., 1., 0., 1., 1., 0., 1., 0., 1., 1., 0., 0., 0., 0.,\n",
       "       0., 0., 1., 0., 1., 0., 0., 0., 0., 0., 1., 0., 0., 0., 1., 0., 0.,\n",
       "       1., 0., 0., 1., 0., 0.])"
      ]
     },
     "execution_count": 41,
     "metadata": {},
     "output_type": "execute_result"
    }
   ],
   "source": [
    "# Название вектора предсказанных значений  y_predict полученого на основании тестового набора\n",
    "y_predict = y_predicted\n",
    "y_predict"
   ]
  }
 ],
 "metadata": {
  "kernelspec": {
   "display_name": "Python 3 (ipykernel)",
   "language": "python",
   "name": "python3"
  },
  "language_info": {
   "codemirror_mode": {
    "name": "ipython",
    "version": 3
   },
   "file_extension": ".py",
   "mimetype": "text/x-python",
   "name": "python",
   "nbconvert_exporter": "python",
   "pygments_lexer": "ipython3",
   "version": "3.9.13"
  }
 },
 "nbformat": 4,
 "nbformat_minor": 2
}
