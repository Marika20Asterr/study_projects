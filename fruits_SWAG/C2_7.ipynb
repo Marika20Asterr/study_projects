{
 "cells": [
  {
   "cell_type": "code",
   "execution_count": 2,
   "id": "e23a40e5",
   "metadata": {
    "execution": {
     "iopub.execute_input": "2024-05-19T18:38:12.488330Z",
     "iopub.status.busy": "2024-05-19T18:38:12.487519Z",
     "iopub.status.idle": "2024-05-19T18:38:12.509771Z",
     "shell.execute_reply": "2024-05-19T18:38:12.508634Z",
     "shell.execute_reply.started": "2024-05-19T18:38:12.488277Z"
    }
   },
   "outputs": [],
   "source": [
    "import torch\n",
    "import torch.nn as nn\n",
    "import torch.optim as optim\n",
    "from torch.optim import lr_scheduler\n",
    "import torch.backends.cudnn as cudnn\n",
    "import numpy as np\n",
    "import torchvision\n",
    "from torchvision import datasets, models, transforms\n",
    "import matplotlib.pyplot as plt\n",
    "import time\n",
    "import os\n",
    "from PIL import Image\n",
    "from tempfile import TemporaryDirectory\n",
    "\n",
    "from torchvision import transforms\n",
    "\n",
    "import torchvision.transforms as transforms\n",
    "cudnn.benchmark = True\n",
    "plt.ion()   # interactive mode\n",
    "\n",
    "from sklearn import svm, preprocessing, model_selection, metrics, base\n",
    "\n",
    "import os\n",
    "from sklearn.model_selection import train_test_split\n",
    "\n",
    "from collections import defaultdict\n",
    "import copy\n",
    "import random\n",
    "import os\n",
    "import shutil\n",
    "from urllib.request import urlretrieve\n",
    "\n",
    "\n",
    "import cv2\n",
    "import matplotlib.pyplot as plt\n",
    "from tqdm import tqdm\n",
    "import torch\n",
    "import torch.backends.cudnn as cudnn\n",
    "import torch.nn as nn\n",
    "import torch.optim\n",
    "from torch.utils.data import Dataset, DataLoader\n",
    "import torchvision.models as models\n",
    "\n",
    "from torch.utils.data import DataLoader, random_split\n",
    "\n",
    "cudnn.benchmark = True\n",
    "\n",
    "import torch\n",
    "import torchvision\n",
    "from torch.utils.data import Dataset, DataLoader\n",
    "\n",
    "import torch.nn.functional as F\n",
    "import torch.optim as optim\n",
    "from torch import nn\n",
    "\n",
    "import torchvision.transforms as T\n",
    "from torchvision.datasets import ImageFolder"
   ]
  },
  {
   "cell_type": "code",
   "execution_count": null,
   "id": "f925e5a4",
   "metadata": {},
   "outputs": [],
   "source": [
    "# pip install albumentations --user\n"
   ]
  },
  {
   "cell_type": "code",
   "execution_count": null,
   "id": "87b1dc9a-d9b7-49c8-a5f7-f800f89da3a4",
   "metadata": {},
   "outputs": [],
   "source": [
    "import zipfile\n",
    "from tqdm import tqdm\n",
    "fname = './AEP_hourly.csv.zip'\n",
    "path=・…/\n",
    "with zipfile.ZipFile(fname, 'r') as 2f:\n",
    "for entry in tqdm(zf. infolist(), desc='Extracting '):\n",
    "try:\n",
    "zf.extract(entry, path)\n",
    "except zipfile.error as e:\n",
    "pass\n",
    "\n",
    "tar -xf имя.tar.gz"
   ]
  },
  {
   "cell_type": "code",
   "execution_count": 3,
   "id": "55d88ee5",
   "metadata": {
    "execution": {
     "iopub.execute_input": "2024-05-19T18:38:12.513574Z",
     "iopub.status.busy": "2024-05-19T18:38:12.512293Z",
     "iopub.status.idle": "2024-05-19T18:38:13.954052Z",
     "shell.execute_reply": "2024-05-19T18:38:13.952868Z",
     "shell.execute_reply.started": "2024-05-19T18:38:12.513524Z"
    }
   },
   "outputs": [],
   "source": [
    "import albumentations as A\n",
    "from albumentations.pytorch import ToTensorV2"
   ]
  },
  {
   "cell_type": "code",
   "execution_count": 3,
   "id": "de1f8a7d",
   "metadata": {},
   "outputs": [
    {
     "data": {
      "text/plain": [
       "'cpu'"
      ]
     },
     "execution_count": 3,
     "metadata": {},
     "output_type": "execute_result"
    }
   ],
   "source": [
    "device = \"cuda\" if torch.cuda.is_available() else \"cpu\"\n",
    "device"
   ]
  },
  {
   "cell_type": "code",
   "execution_count": 4,
   "id": "934c6da8",
   "metadata": {
    "execution": {
     "iopub.execute_input": "2024-05-19T18:38:13.956312Z",
     "iopub.status.busy": "2024-05-19T18:38:13.955388Z",
     "iopub.status.idle": "2024-05-19T18:38:13.978347Z",
     "shell.execute_reply": "2024-05-19T18:38:13.977259Z",
     "shell.execute_reply.started": "2024-05-19T18:38:13.956276Z"
    }
   },
   "outputs": [
    {
     "data": {
      "text/plain": [
       "'/home/jupyter/work/resources/'"
      ]
     },
     "execution_count": 4,
     "metadata": {},
     "output_type": "execute_result"
    }
   ],
   "source": [
    "wd = !pwd\n",
    "path = wd[0] + '/'\n",
    "path"
   ]
  },
  {
   "cell_type": "code",
   "execution_count": null,
   "id": "da811d19",
   "metadata": {},
   "outputs": [],
   "source": []
  },
  {
   "cell_type": "code",
   "execution_count": null,
   "id": "ea178c2c",
   "metadata": {},
   "outputs": [],
   "source": []
  },
  {
   "cell_type": "code",
   "execution_count": null,
   "id": "7449e852",
   "metadata": {},
   "outputs": [],
   "source": []
  },
  {
   "cell_type": "code",
   "execution_count": 5,
   "id": "aa6c08dc",
   "metadata": {
    "execution": {
     "iopub.execute_input": "2024-05-19T18:38:13.980489Z",
     "iopub.status.busy": "2024-05-19T18:38:13.979492Z",
     "iopub.status.idle": "2024-05-19T18:38:14.207453Z",
     "shell.execute_reply": "2024-05-19T18:38:14.206342Z",
     "shell.execute_reply.started": "2024-05-19T18:38:13.980455Z"
    }
   },
   "outputs": [],
   "source": [
    "import seaborn as sns\n",
    "import matplotlib.pyplot as plt\n",
    "from IPython.display import clear_output\n",
    "from tqdm.notebook import tqdm\n",
    "\n",
    "\n",
    "sns.set_style('whitegrid')\n",
    "plt.rcParams.update({'font.size': 15})\n",
    "\n",
    "\n",
    "def plot_losses(train_losses, test_losses, train_accuracies, test_accuracies):\n",
    "    clear_output()\n",
    "    fig, axs = plt.subplots(1, 2, figsize=(13, 4))\n",
    "    axs[0].plot(range(1, len(train_losses) + 1), train_losses, label='train')\n",
    "    axs[0].plot(range(1, len(test_losses) + 1), test_losses, label='test')\n",
    "    axs[0].set_ylabel('loss')\n",
    "\n",
    "    axs[1].plot(range(1, len(train_accuracies) + 1), train_accuracies, label='train')\n",
    "    axs[1].plot(range(1, len(test_accuracies) + 1), test_accuracies, label='test')\n",
    "    axs[1].set_ylabel('accuracy')\n",
    "\n",
    "    for ax in axs:\n",
    "        ax.set_xlabel('epoch')\n",
    "        ax.legend()\n",
    "\n",
    "    plt.show()"
   ]
  },
  {
   "cell_type": "code",
   "execution_count": 6,
   "id": "f8d11aa2",
   "metadata": {
    "execution": {
     "iopub.execute_input": "2024-05-19T18:38:14.209926Z",
     "iopub.status.busy": "2024-05-19T18:38:14.208728Z",
     "iopub.status.idle": "2024-05-19T18:38:14.233586Z",
     "shell.execute_reply": "2024-05-19T18:38:14.232538Z",
     "shell.execute_reply.started": "2024-05-19T18:38:14.209861Z"
    },
    "tags": []
   },
   "outputs": [],
   "source": [
    "def training_epoch(model, optimizer, criterion, train_loader, tqdm_desc):\n",
    "    train_loss, train_accuracy = 0.0, 0.0\n",
    "    model.train()\n",
    "    for images, labels in tqdm(train_loader, desc=tqdm_desc):\n",
    "        images = images.to(device)  # images: batch_size x num_channels x height x width\n",
    "        labels = labels.long().to(device)  # labels: batch_size\n",
    "\n",
    "        optimizer.zero_grad()\n",
    "        logits = model(images)  # logits: batch_size x num_classes\n",
    "        loss = criterion(logits, labels)\n",
    "        loss.backward()\n",
    "        optimizer.step()\n",
    "\n",
    "        train_loss += loss.item() * images.shape[0]\n",
    "        train_accuracy += (logits.argmax(dim=1) == labels).sum().item()\n",
    "    \n",
    "    train_loss /= len(train_loader.dataset)\n",
    "    train_accuracy /= len(train_loader.dataset)\n",
    "    return train_loss, train_accuracy\n",
    "\n",
    "\n",
    "@torch.no_grad()\n",
    "def validation_epoch(model, criterion, test_loader, tqdm_desc):\n",
    "    test_loss, test_accuracy = 0.0, 0.0\n",
    "    model.eval()\n",
    "    for images, labels in tqdm(test_loader, desc=tqdm_desc):\n",
    "        images = images.to(device)  # images: batch_size x num_channels x height x width\n",
    "        labels = labels.long().to(device)  # labels: batch_size\n",
    "        logits = model(images)  # logits: batch_size x num_classes\n",
    "        loss = criterion(logits, labels)\n",
    "\n",
    "        test_loss += loss.item() * images.shape[0]\n",
    "        test_accuracy += (logits.argmax(dim=1) == labels).sum().item()\n",
    "\n",
    "    test_loss /= len(test_loader.dataset)\n",
    "    test_accuracy /= len(test_loader.dataset)\n",
    "    return test_loss, test_accuracy\n",
    "\n",
    "    \n",
    "def train(model, optimizer, scheduler, criterion, train_loader, test_loader, num_epochs):\n",
    "    train_losses, train_accuracies = [], []\n",
    "    test_losses, test_accuracies = [], []\n",
    "\n",
    "    for epoch in range(1, num_epochs + 1):\n",
    "        train_loss, train_accuracy = training_epoch(\n",
    "            model, optimizer, criterion, train_loader,\n",
    "            tqdm_desc=f'Training {epoch}/{num_epochs}'\n",
    "        )\n",
    "        test_loss, test_accuracy = validation_epoch(\n",
    "            model, criterion, test_loader,\n",
    "            tqdm_desc=f'Validating {epoch}/{num_epochs}'\n",
    "        )\n",
    "\n",
    "        if scheduler is not None:\n",
    "            scheduler.step()\n",
    "\n",
    "        train_losses += [train_loss]\n",
    "        train_accuracies += [train_accuracy]\n",
    "        test_losses += [test_loss]\n",
    "        test_accuracies += [test_accuracy]\n",
    "        plot_losses(train_losses, test_losses, train_accuracies, test_accuracies)\n",
    "\n",
    "    return train_losses, test_losses, train_accuracies, test_accuracies"
   ]
  },
  {
   "cell_type": "code",
   "execution_count": null,
   "id": "d5830fed",
   "metadata": {},
   "outputs": [],
   "source": []
  },
  {
   "cell_type": "code",
   "execution_count": 23,
   "id": "98f4be6b",
   "metadata": {
    "execution": {
     "iopub.execute_input": "2024-05-19T18:56:50.301276Z",
     "iopub.status.busy": "2024-05-19T18:56:50.300332Z",
     "iopub.status.idle": "2024-05-19T18:56:50.448568Z",
     "shell.execute_reply": "2024-05-19T18:56:50.447518Z",
     "shell.execute_reply.started": "2024-05-19T18:56:50.301217Z"
    },
    "tags": []
   },
   "outputs": [
    {
     "name": "stdout",
     "output_type": "stream",
     "text": [
      "Количество изображений в тренировочном наборе: 12038\n",
      "Количество изображений в валидационном наборе: 3010\n"
     ]
    }
   ],
   "source": [
    "data_dir = \"/home/jupyter/datasphere/project/study-competition-2-dl-2024-1/data_cry/train1\"\n",
    "images = []\n",
    "labels = []\n",
    "\n",
    "# Обходим все подпапки в папке с данными\n",
    "for label in os.listdir(data_dir):\n",
    "    label_dir = os.path.join(data_dir, label)\n",
    "    if os.path.isdir(label_dir):\n",
    "        for image_name in os.listdir(label_dir):\n",
    "            image_path = os.path.join(label_dir, image_name)\n",
    "            images.append(image_path)\n",
    "            labels.append(label)\n",
    "\n",
    "# Разделяем данные на тренировочный и валидационный наборы\n",
    "X_train, X_val, y_train, y_val = train_test_split(images, labels, test_size=0.2, random_state=42)\n",
    "\n",
    "# Выводим информацию о разделении данных\n",
    "print(\"Количество изображений в тренировочном наборе:\", len(X_train))\n",
    "print(\"Количество изображений в валидационном наборе:\", len(X_val))"
   ]
  },
  {
   "cell_type": "code",
   "execution_count": 24,
   "id": "b7e8920c",
   "metadata": {
    "execution": {
     "iopub.execute_input": "2024-05-19T18:56:56.532372Z",
     "iopub.status.busy": "2024-05-19T18:56:56.531317Z",
     "iopub.status.idle": "2024-05-19T18:56:56.575391Z",
     "shell.execute_reply": "2024-05-19T18:56:56.573931Z",
     "shell.execute_reply.started": "2024-05-19T18:56:56.532335Z"
    },
    "tags": []
   },
   "outputs": [],
   "source": [
    "class Odin(Dataset):\n",
    "    SPLIT_RANDOM_SEED = 42\n",
    "    TEST_SIZE = 0.25\n",
    "\n",
    "    def __init__(self, root, train=True, load_to_ram=True, transform=None):\n",
    "        super().__init__()\n",
    "        self.root = root\n",
    "        self.train = train\n",
    "        self.load_to_ram = load_to_ram # подгружать ли датасет в память полностью\n",
    "        self.transform = transform\n",
    "        self.to_tensor = T.ToTensor()\n",
    "        self.all_files = []\n",
    "        self.all_labels = []\n",
    "        self.images = []\n",
    "\n",
    "        self.classes = sorted(os.listdir(self.root))\n",
    "        for i, class_name in tqdm(enumerate(self.classes), total=len(self.classes)):\n",
    "            files = sorted(os.listdir(os.path.join(self.root, class_name)))\n",
    "            train_files, test_files = train_test_split(files, random_state=self.SPLIT_RANDOM_SEED + i,\n",
    "                                                       test_size=self.TEST_SIZE)\n",
    "            if self.train:\n",
    "                self.all_files += train_files\n",
    "                self.all_labels += [i] * len(train_files)\n",
    "                if self.load_to_ram:\n",
    "                    self.images += self._load_images(train_files, i)\n",
    "\n",
    "            else:\n",
    "                self.all_files += test_files\n",
    "                self.all_labels += [i] * len(test_files)\n",
    "                if self.load_to_ram:\n",
    "                    self.images += self._load_images(test_files, i)\n",
    "\n",
    "    def _load_images(self, image_files, label):\n",
    "        images = []\n",
    "        for filename in image_files:\n",
    "            image = Image.open(os.path.join(self.root, self.classes[label], filename)).convert('RGB')\n",
    "            images += [image]\n",
    "\n",
    "        return images\n",
    "\n",
    "    def __len__(self):\n",
    "        return len(self.all_files)\n",
    "\n",
    "    def __getitem__(self, item):\n",
    "        label = self.all_labels[item]\n",
    "        if self.load_to_ram:\n",
    "            image = self.images[item]\n",
    "        else:\n",
    "            filename = self.all_files[item]\n",
    "            image = Image.open(os.path.join(self.root, self.classes[label], filename)).convert('RGB')\n",
    "\n",
    "        if self.transform is not None:\n",
    "            image = self.transform(image)\n",
    "\n",
    "        return image, label"
   ]
  },
  {
   "cell_type": "code",
   "execution_count": null,
   "id": "c37394c3",
   "metadata": {},
   "outputs": [],
   "source": [
    "# data_dir = 'data_cry/train1'\n",
    "# root_directory = os.path.join(data_dir, \"data_cry/train1\")\n",
    "\n",
    "# bean_directory = os.path.join(root_directory, \"Bean_0\")\n",
    "# bitter_gourd_directory = os.path.join(root_directory, \"Bitter_Gourd_1\")\n",
    "# bottle_gourd_directory = os.path.join(root_directory, \"Bottle_Gourd_2\")\n",
    "# brinjal_directory = os.path.join(root_directory, \"Brinjal_3\")\n",
    "# broccoli_directory = os.path.join(root_directory, \"Broccoli_4\")\n",
    "# cabbage_directory = os.path.join(root_directory, \"Cabbage_5\")\n",
    "# capsicum_directory = os.path.join(root_directory, \"Capsicum_6\")\n",
    "# carrot_directory = os.path.join(root_directory, \"Carrot_7\")\n",
    "# cauliflower_directory = os.path.join(root_directory, \"Cauliflower_8\")\n",
    "# cucumber_directory = os.path.join(root_directory, \"Cucumber_9\")\n",
    "# papaya_directory = os.path.join(root_directory, \"Papaya_10\")\n",
    "# potato_directory = os.path.join(root_directory, \"Potato_11\")\n",
    "# pumpkin_directory = os.path.join(root_directory, \"Pumpkin_12\")\n",
    "# radish_directory = os.path.join(root_directory, \"Radish_13\")\n",
    "# tomato_directory = os.path.join(root_directory, \"Tomato_14\")\n",
    "\n",
    "# bean_images_filepaths = sorted([os.path.join(bean_directory, f) for f in os.listdir(bean_directory)])\n",
    "# BiGourd_images_filepaths = sorted([os.path.join(bitter_gourd_directory, f) for f in os.listdir(bitter_gourd_directory)])\n",
    "# BoGourd_images_filepaths = sorted([os.path.join(bottle_gourd_directory, f) for f in os.listdir(bottle_gourd_directory)])\n",
    "# brinjal_images_filepaths = sorted([os.path.join(brinjal_directory, f) for f in os.listdir(brinjal_directory)])\n",
    "# broccoli_images_filepaths = sorted([os.path.join(broccoli_directory, f) for f in os.listdir(broccoli_directory)])\n",
    "# cabbage_images_filepaths = sorted([os.path.join(cabbage_directory, f) for f in os.listdir(cabbage_directory)])\n",
    "# capsicum_images_filepaths = sorted([os.path.join(capsicum_directory, f) for f in os.listdir(capsicum_directory)])\n",
    "# carrot_images_filepaths = sorted([os.path.join(carrot_directory, f) for f in os.listdir(carrot_directory)])\n",
    "# cauliflower_images_filepaths = sorted([os.path.join(cauliflower_directory, f) for f in os.listdir(cauliflower_directory)])\n",
    "# cucumber_images_filepaths = sorted([os.path.join(cucumber_directory, f) for f in os.listdir(cucumber_directory)])\n",
    "# papaya_images_filepaths = sorted([os.path.join(papaya_directory, f) for f in os.listdir(papaya_directory)])\n",
    "# potato_images_filepaths = sorted([os.path.join(potato_directory, f) for f in os.listdir(potato_directory)])\n",
    "# pumpkin_images_filepaths = sorted([os.path.join(pumpkin_directory, f) for f in os.listdir(pumpkin_directory)])\n",
    "# radish_filepaths = sorted([os.path.join(radish_directory, f) for f in os.listdir(radish_directory)])\n",
    "# tomato_images_filepaths = sorted([os.path.join(tomato_directory, f) for f in os.listdir(tomato_directory)])\n",
    "\n",
    "\n",
    "# images_filepaths = [*bean_images_filepaths, *BiGourd_images_filepaths, *BoGourd_images_filepaths,*brinjal_images_filepaths,\n",
    "#                    *broccoli_images_filepaths,*cabbage_images_filepaths,*capsicum_images_filepaths,*carrot_images_filepaths,\n",
    "#                    *cauliflower_images_filepaths,*cucumber_images_filepaths,*papaya_images_filepaths,*potato_images_filepaths,\n",
    "#                    *pumpkin_images_filepaths, *radish_filepaths,*tomato_images_filepaths]\n",
    "# correct_images_filepaths = [i for i in images_filepaths if cv2.imread(i) is not None]\n",
    "\n",
    "# random.seed(42)\n",
    "# random.shuffle(correct_images_filepaths)\n",
    "# train_images_filepaths = correct_images_filepaths[:20000]\n",
    "# val_images_filepaths = correct_images_filepaths[20000:-10]\n",
    "# test_images_filepaths = correct_images_filepaths[-10:]\n",
    "# print(len(train_images_filepaths), len(val_images_filepaths), len(test_images_filepaths))"
   ]
  },
  {
   "cell_type": "code",
   "execution_count": 16,
   "id": "caabff7d",
   "metadata": {
    "execution": {
     "iopub.execute_input": "2024-05-19T18:41:19.051984Z",
     "iopub.status.busy": "2024-05-19T18:41:19.051306Z",
     "iopub.status.idle": "2024-05-19T18:41:19.072430Z",
     "shell.execute_reply": "2024-05-19T18:41:19.071402Z",
     "shell.execute_reply.started": "2024-05-19T18:41:19.051945Z"
    },
    "tags": []
   },
   "outputs": [],
   "source": [
    "def display_image_grid(images_filepaths, predicted_labels=(), cols=5):\n",
    "    rows = len(images_filepaths) // cols\n",
    "    figure, ax = plt.subplots(nrows=rows, ncols=cols, figsize=(12, 6))\n",
    "    for i, image_filepath in enumerate(images_filepaths):\n",
    "        image = cv2.imread(image_filepath)\n",
    "        image = cv2.cvtColor(image, cv2.COLOR_BGR2RGB)\n",
    "        true_label = os.path.normpath(image_filepath).split(os.sep)[-2]\n",
    "        predicted_label = predicted_labels[i] if predicted_labels else true_label\n",
    "        color = \"green\" if true_label == predicted_label else \"red\"\n",
    "        ax.ravel()[i].imshow(image)\n",
    "        ax.ravel()[i].set_title(predicted_label, color=color)\n",
    "        ax.ravel()[i].set_axis_off()\n",
    "    plt.tight_layout()\n",
    "    plt.show()"
   ]
  },
  {
   "cell_type": "code",
   "execution_count": null,
   "id": "4d1e605d",
   "metadata": {},
   "outputs": [],
   "source": [
    "display_image_grid(test_images_filepaths)"
   ]
  },
  {
   "cell_type": "code",
   "execution_count": null,
   "id": "b3a97551",
   "metadata": {},
   "outputs": [],
   "source": [
    "# class Pervyi(data_dir):\n",
    "#     def __init__(self, root, images_filepaths, train=True, load_to_ram=True, transform=None):\n",
    "#         super(Pervyi, self).__init__()\n",
    "#         self.root = root\n",
    "#         self.images_filepaths = images_filepaths\n",
    "#         self.train = train\n",
    "#         self.load_to_ram = load_to_ram\n",
    "#         self.transform = transform\n",
    "#         self.label_map = {\"Bean_0\": 0, \"Bitter_Gourd_1\": 1, \"Bottle_Gourd_2\": 2, \"Brinjal_3\": 3,\"Broccoli_4\": 4, \"Cabbage_5\": 5,\n",
    "#                      \"Capsicum_6\": 6, \"Carrot_7\": 7, \"Cauliflower_8\": 8, \"Cucumber_9\": 9, \"Papaya_10\": 10,\"Potato_11\": 11,\n",
    "#                      \"Pumpkin_12\": 12, \"Radish_13\": 13, \"Tomato_14\": 14}  \n",
    "\n",
    "#     def __len__(self):\n",
    "#         return len(self.images_filepaths)\n",
    "        \n",
    "    \n",
    "\n",
    "#     def __getitem__(self, idx):\n",
    "#         image_filepath = self.images_filepaths[idx]\n",
    "#         image = cv2.imread(image_filepath)\n",
    "#         image = cv2.cvtColor(image, cv2.COLOR_BGR2RGB)\n",
    "        \n",
    "#         label_map = {\"Bean_0\": 0, \"Bitter_Gourd_1\": 1, \"Bottle_Gourd_2\": 2, \"Brinjal_3\": 3,\"Broccoli_4\": 4, \"Cabbage_5\": 5,\n",
    "#                      \"Capsicum_6\": 6, \"Carrot_7\": 7, \"Cauliflower_8\": 8, \"Cucumber_9\": 9, \"Papaya_10\": 10,\"Potato_11\": 11,\n",
    "#                      \"Pumpkin_12\": 12, \"Radish_13\": 13, \"Tomato_14\": 14}  \n",
    "        \n",
    "#         image_class = os.path.normpath(image_filepath).split(os.sep)[-2]\n",
    "#         if image_class in label_map:\n",
    "#             label = float(label_map[image_class])\n",
    "#         else:\n",
    "#             label = float('nan')  \n",
    "        \n",
    "#         if self.transform is not None:\n",
    "#             image = self.transform(image=image)[\"image\"]\n",
    "        \n",
    "#         return image, label"
   ]
  },
  {
   "cell_type": "code",
   "execution_count": 27,
   "id": "8ca9b3e6",
   "metadata": {
    "execution": {
     "iopub.execute_input": "2024-05-19T18:58:03.046124Z",
     "iopub.status.busy": "2024-05-19T18:58:03.045096Z",
     "iopub.status.idle": "2024-05-19T18:58:03.130910Z",
     "shell.execute_reply": "2024-05-19T18:58:03.129572Z",
     "shell.execute_reply.started": "2024-05-19T18:58:03.046080Z"
    },
    "tags": []
   },
   "outputs": [
    {
     "data": {
      "application/vnd.jupyter.widget-view+json": {
       "model_id": "50af1a196bc949d49f2a3f61ed1a87cc",
       "version_major": 2,
       "version_minor": 0
      },
      "text/plain": [
       "  0%|          | 0/15 [00:00<?, ?it/s]"
      ]
     },
     "metadata": {},
     "output_type": "display_data"
    }
   ],
   "source": [
    "normalize = T.Normalize(mean=[0.485, 0.456, 0.406], \n",
    "                        std=[0.229, 0.224, 0.225])\n",
    "\n",
    "test_transform = T.Compose([\n",
    "    T.Resize(256),\n",
    "    T.CenterCrop(224),\n",
    "    T.ToTensor(),\n",
    "    normalize,\n",
    "])\n",
    "train_dataset = Odin(root=\"/home/jupyter/datasphere/project/study-competition-2-dl-2024-1/data_cry/train1\", train=True, load_to_ram=False)"
   ]
  },
  {
   "cell_type": "code",
   "execution_count": 28,
   "id": "93c4c21d",
   "metadata": {
    "execution": {
     "iopub.execute_input": "2024-05-19T18:58:08.554120Z",
     "iopub.status.busy": "2024-05-19T18:58:08.553121Z",
     "iopub.status.idle": "2024-05-19T18:58:08.570216Z",
     "shell.execute_reply": "2024-05-19T18:58:08.569127Z",
     "shell.execute_reply.started": "2024-05-19T18:58:08.554071Z"
    },
    "tags": []
   },
   "outputs": [],
   "source": [
    "train_transform = A.Compose(\n",
    "    [\n",
    "        A.SmallestMaxSize(max_size=160),\n",
    "        A.ShiftScaleRotate(shift_limit=0.05, scale_limit=0.05, rotate_limit=15, p=0.5),\n",
    "        A.RandomCrop(height=128, width=128),\n",
    "        A.RGBShift(r_shift_limit=15, g_shift_limit=15, b_shift_limit=15, p=0.5),\n",
    "        A.RandomBrightnessContrast(p=0.5),\n",
    "        A.Normalize(mean=(0.485, 0.456, 0.406), std=(0.229, 0.224, 0.225)),\n",
    "        ToTensorV2(),\n",
    "    ]\n",
    ")\n",
    "# train_dataset = Pervyi(images_filepaths=train_images_filepaths, transform=train_transform)"
   ]
  },
  {
   "cell_type": "code",
   "execution_count": 29,
   "id": "a1295cd4",
   "metadata": {
    "execution": {
     "iopub.execute_input": "2024-05-19T18:58:13.007487Z",
     "iopub.status.busy": "2024-05-19T18:58:13.006575Z",
     "iopub.status.idle": "2024-05-19T18:58:13.028538Z",
     "shell.execute_reply": "2024-05-19T18:58:13.027541Z",
     "shell.execute_reply.started": "2024-05-19T18:58:13.007454Z"
    },
    "tags": []
   },
   "outputs": [],
   "source": [
    "val_transform = A.Compose(\n",
    "    [\n",
    "        A.SmallestMaxSize(max_size=160),\n",
    "        A.CenterCrop(height=128, width=128),\n",
    "        A.Normalize(mean=(0.485, 0.456, 0.406), std=(0.229, 0.224, 0.225)),\n",
    "        ToTensorV2(),\n",
    "    ]\n",
    ")\n",
    "# val_dataset = Pervyi(images_filepaths=val_images_filepaths, transform=val_transform)"
   ]
  },
  {
   "cell_type": "code",
   "execution_count": 31,
   "id": "bf24b868",
   "metadata": {
    "execution": {
     "iopub.execute_input": "2024-05-19T18:58:30.028851Z",
     "iopub.status.busy": "2024-05-19T18:58:30.027885Z",
     "iopub.status.idle": "2024-05-19T18:59:15.064700Z",
     "shell.execute_reply": "2024-05-19T18:59:15.063482Z",
     "shell.execute_reply.started": "2024-05-19T18:58:30.028815Z"
    },
    "tags": []
   },
   "outputs": [
    {
     "data": {
      "application/vnd.jupyter.widget-view+json": {
       "model_id": "22ac88b0a92944e2a70f0c25392e74d0",
       "version_major": 2,
       "version_minor": 0
      },
      "text/plain": [
       "  0%|          | 0/15 [00:00<?, ?it/s]"
      ]
     },
     "metadata": {},
     "output_type": "display_data"
    },
    {
     "data": {
      "application/vnd.jupyter.widget-view+json": {
       "model_id": "287d4bfa8ce643d2a7e5781336c691eb",
       "version_major": 2,
       "version_minor": 0
      },
      "text/plain": [
       "  0%|          | 0/15 [00:00<?, ?it/s]"
      ]
     },
     "metadata": {},
     "output_type": "display_data"
    }
   ],
   "source": [
    "train_dataset = Odin(root=\"/home/jupyter/datasphere/project/study-competition-2-dl-2024-1/data_cry/train1\", train=True, \n",
    "                       load_to_ram=True, transform=test_transform)\n",
    "\n",
    "val_dataset = Odin(root=\"/home/jupyter/datasphere/project/study-competition-2-dl-2024-1/data_cry/train1\", train=False, \n",
    "                     load_to_ram=True, transform=test_transform)"
   ]
  },
  {
   "cell_type": "code",
   "execution_count": 32,
   "id": "d31e461a",
   "metadata": {
    "execution": {
     "iopub.execute_input": "2024-05-19T18:59:17.546370Z",
     "iopub.status.busy": "2024-05-19T18:59:17.545156Z",
     "iopub.status.idle": "2024-05-19T18:59:17.560814Z",
     "shell.execute_reply": "2024-05-19T18:59:17.559783Z",
     "shell.execute_reply.started": "2024-05-19T18:59:17.546311Z"
    },
    "tags": []
   },
   "outputs": [],
   "source": [
    "train_loader = DataLoader(train_dataset, batch_size=32, shuffle=True, pin_memory=True, num_workers=4)\n",
    "test_loader = DataLoader(val_dataset, batch_size=32, shuffle=False, pin_memory=True, num_workers=4)"
   ]
  },
  {
   "cell_type": "code",
   "execution_count": 33,
   "id": "e60fff85",
   "metadata": {
    "execution": {
     "iopub.execute_input": "2024-05-19T18:59:20.484642Z",
     "iopub.status.busy": "2024-05-19T18:59:20.483614Z",
     "iopub.status.idle": "2024-05-19T18:59:20.512720Z",
     "shell.execute_reply": "2024-05-19T18:59:20.511674Z",
     "shell.execute_reply.started": "2024-05-19T18:59:20.484586Z"
    },
    "tags": []
   },
   "outputs": [],
   "source": [
    "from torchvision.models import mobilenet_v2, MobileNet_V2_Weights"
   ]
  },
  {
   "cell_type": "code",
   "execution_count": 34,
   "id": "55201b42",
   "metadata": {
    "execution": {
     "iopub.execute_input": "2024-05-19T18:59:22.792315Z",
     "iopub.status.busy": "2024-05-19T18:59:22.791392Z",
     "iopub.status.idle": "2024-05-19T18:59:23.785832Z",
     "shell.execute_reply": "2024-05-19T18:59:23.784630Z",
     "shell.execute_reply.started": "2024-05-19T18:59:22.792276Z"
    },
    "tags": []
   },
   "outputs": [
    {
     "name": "stderr",
     "output_type": "stream",
     "text": [
      "Downloading: \"https://download.pytorch.org/models/mobilenet_v2-b0353104.pth\" to /tmp/xdg_cache/torch/hub/checkpoints/mobilenet_v2-b0353104.pth\n",
      "100%|██████████| 13.6M/13.6M [00:00<00:00, 51.4MB/s]\n"
     ]
    }
   ],
   "source": [
    "model = mobilenet_v2(weights=MobileNet_V2_Weights.IMAGENET1K_V1)\n",
    "\n",
    "for param in model.parameters():\n",
    "    param.requires_grad = False"
   ]
  },
  {
   "cell_type": "code",
   "execution_count": 37,
   "id": "4a5f1a38-e058-4415-b710-0eaa17060efb",
   "metadata": {
    "execution": {
     "iopub.execute_input": "2024-05-19T18:59:57.277393Z",
     "iopub.status.busy": "2024-05-19T18:59:57.276547Z",
     "iopub.status.idle": "2024-05-19T18:59:57.305171Z",
     "shell.execute_reply": "2024-05-19T18:59:57.304166Z",
     "shell.execute_reply.started": "2024-05-19T18:59:57.277348Z"
    },
    "tags": []
   },
   "outputs": [],
   "source": [
    "device = 'cpu'"
   ]
  },
  {
   "cell_type": "code",
   "execution_count": 38,
   "id": "73127c9a",
   "metadata": {
    "execution": {
     "iopub.execute_input": "2024-05-19T19:00:00.108570Z",
     "iopub.status.busy": "2024-05-19T19:00:00.107601Z",
     "iopub.status.idle": "2024-05-19T19:00:00.168017Z",
     "shell.execute_reply": "2024-05-19T19:00:00.166822Z",
     "shell.execute_reply.started": "2024-05-19T19:00:00.108529Z"
    },
    "tags": []
   },
   "outputs": [],
   "source": [
    "model.classifier[1] = torch.nn.Linear(1280, len(train_dataset.classes))\n",
    "model = model.to(device)"
   ]
  },
  {
   "cell_type": "code",
   "execution_count": 20,
   "id": "933eaa6f",
   "metadata": {},
   "outputs": [
    {
     "data": {
      "text/plain": [
       "MobileNetV2(\n",
       "  (features): Sequential(\n",
       "    (0): Conv2dNormActivation(\n",
       "      (0): Conv2d(3, 32, kernel_size=(3, 3), stride=(2, 2), padding=(1, 1), bias=False)\n",
       "      (1): BatchNorm2d(32, eps=1e-05, momentum=0.1, affine=True, track_running_stats=True)\n",
       "      (2): ReLU6(inplace=True)\n",
       "    )\n",
       "    (1): InvertedResidual(\n",
       "      (conv): Sequential(\n",
       "        (0): Conv2dNormActivation(\n",
       "          (0): Conv2d(32, 32, kernel_size=(3, 3), stride=(1, 1), padding=(1, 1), groups=32, bias=False)\n",
       "          (1): BatchNorm2d(32, eps=1e-05, momentum=0.1, affine=True, track_running_stats=True)\n",
       "          (2): ReLU6(inplace=True)\n",
       "        )\n",
       "        (1): Conv2d(32, 16, kernel_size=(1, 1), stride=(1, 1), bias=False)\n",
       "        (2): BatchNorm2d(16, eps=1e-05, momentum=0.1, affine=True, track_running_stats=True)\n",
       "      )\n",
       "    )\n",
       "    (2): InvertedResidual(\n",
       "      (conv): Sequential(\n",
       "        (0): Conv2dNormActivation(\n",
       "          (0): Conv2d(16, 96, kernel_size=(1, 1), stride=(1, 1), bias=False)\n",
       "          (1): BatchNorm2d(96, eps=1e-05, momentum=0.1, affine=True, track_running_stats=True)\n",
       "          (2): ReLU6(inplace=True)\n",
       "        )\n",
       "        (1): Conv2dNormActivation(\n",
       "          (0): Conv2d(96, 96, kernel_size=(3, 3), stride=(2, 2), padding=(1, 1), groups=96, bias=False)\n",
       "          (1): BatchNorm2d(96, eps=1e-05, momentum=0.1, affine=True, track_running_stats=True)\n",
       "          (2): ReLU6(inplace=True)\n",
       "        )\n",
       "        (2): Conv2d(96, 24, kernel_size=(1, 1), stride=(1, 1), bias=False)\n",
       "        (3): BatchNorm2d(24, eps=1e-05, momentum=0.1, affine=True, track_running_stats=True)\n",
       "      )\n",
       "    )\n",
       "    (3): InvertedResidual(\n",
       "      (conv): Sequential(\n",
       "        (0): Conv2dNormActivation(\n",
       "          (0): Conv2d(24, 144, kernel_size=(1, 1), stride=(1, 1), bias=False)\n",
       "          (1): BatchNorm2d(144, eps=1e-05, momentum=0.1, affine=True, track_running_stats=True)\n",
       "          (2): ReLU6(inplace=True)\n",
       "        )\n",
       "        (1): Conv2dNormActivation(\n",
       "          (0): Conv2d(144, 144, kernel_size=(3, 3), stride=(1, 1), padding=(1, 1), groups=144, bias=False)\n",
       "          (1): BatchNorm2d(144, eps=1e-05, momentum=0.1, affine=True, track_running_stats=True)\n",
       "          (2): ReLU6(inplace=True)\n",
       "        )\n",
       "        (2): Conv2d(144, 24, kernel_size=(1, 1), stride=(1, 1), bias=False)\n",
       "        (3): BatchNorm2d(24, eps=1e-05, momentum=0.1, affine=True, track_running_stats=True)\n",
       "      )\n",
       "    )\n",
       "    (4): InvertedResidual(\n",
       "      (conv): Sequential(\n",
       "        (0): Conv2dNormActivation(\n",
       "          (0): Conv2d(24, 144, kernel_size=(1, 1), stride=(1, 1), bias=False)\n",
       "          (1): BatchNorm2d(144, eps=1e-05, momentum=0.1, affine=True, track_running_stats=True)\n",
       "          (2): ReLU6(inplace=True)\n",
       "        )\n",
       "        (1): Conv2dNormActivation(\n",
       "          (0): Conv2d(144, 144, kernel_size=(3, 3), stride=(2, 2), padding=(1, 1), groups=144, bias=False)\n",
       "          (1): BatchNorm2d(144, eps=1e-05, momentum=0.1, affine=True, track_running_stats=True)\n",
       "          (2): ReLU6(inplace=True)\n",
       "        )\n",
       "        (2): Conv2d(144, 32, kernel_size=(1, 1), stride=(1, 1), bias=False)\n",
       "        (3): BatchNorm2d(32, eps=1e-05, momentum=0.1, affine=True, track_running_stats=True)\n",
       "      )\n",
       "    )\n",
       "    (5): InvertedResidual(\n",
       "      (conv): Sequential(\n",
       "        (0): Conv2dNormActivation(\n",
       "          (0): Conv2d(32, 192, kernel_size=(1, 1), stride=(1, 1), bias=False)\n",
       "          (1): BatchNorm2d(192, eps=1e-05, momentum=0.1, affine=True, track_running_stats=True)\n",
       "          (2): ReLU6(inplace=True)\n",
       "        )\n",
       "        (1): Conv2dNormActivation(\n",
       "          (0): Conv2d(192, 192, kernel_size=(3, 3), stride=(1, 1), padding=(1, 1), groups=192, bias=False)\n",
       "          (1): BatchNorm2d(192, eps=1e-05, momentum=0.1, affine=True, track_running_stats=True)\n",
       "          (2): ReLU6(inplace=True)\n",
       "        )\n",
       "        (2): Conv2d(192, 32, kernel_size=(1, 1), stride=(1, 1), bias=False)\n",
       "        (3): BatchNorm2d(32, eps=1e-05, momentum=0.1, affine=True, track_running_stats=True)\n",
       "      )\n",
       "    )\n",
       "    (6): InvertedResidual(\n",
       "      (conv): Sequential(\n",
       "        (0): Conv2dNormActivation(\n",
       "          (0): Conv2d(32, 192, kernel_size=(1, 1), stride=(1, 1), bias=False)\n",
       "          (1): BatchNorm2d(192, eps=1e-05, momentum=0.1, affine=True, track_running_stats=True)\n",
       "          (2): ReLU6(inplace=True)\n",
       "        )\n",
       "        (1): Conv2dNormActivation(\n",
       "          (0): Conv2d(192, 192, kernel_size=(3, 3), stride=(1, 1), padding=(1, 1), groups=192, bias=False)\n",
       "          (1): BatchNorm2d(192, eps=1e-05, momentum=0.1, affine=True, track_running_stats=True)\n",
       "          (2): ReLU6(inplace=True)\n",
       "        )\n",
       "        (2): Conv2d(192, 32, kernel_size=(1, 1), stride=(1, 1), bias=False)\n",
       "        (3): BatchNorm2d(32, eps=1e-05, momentum=0.1, affine=True, track_running_stats=True)\n",
       "      )\n",
       "    )\n",
       "    (7): InvertedResidual(\n",
       "      (conv): Sequential(\n",
       "        (0): Conv2dNormActivation(\n",
       "          (0): Conv2d(32, 192, kernel_size=(1, 1), stride=(1, 1), bias=False)\n",
       "          (1): BatchNorm2d(192, eps=1e-05, momentum=0.1, affine=True, track_running_stats=True)\n",
       "          (2): ReLU6(inplace=True)\n",
       "        )\n",
       "        (1): Conv2dNormActivation(\n",
       "          (0): Conv2d(192, 192, kernel_size=(3, 3), stride=(2, 2), padding=(1, 1), groups=192, bias=False)\n",
       "          (1): BatchNorm2d(192, eps=1e-05, momentum=0.1, affine=True, track_running_stats=True)\n",
       "          (2): ReLU6(inplace=True)\n",
       "        )\n",
       "        (2): Conv2d(192, 64, kernel_size=(1, 1), stride=(1, 1), bias=False)\n",
       "        (3): BatchNorm2d(64, eps=1e-05, momentum=0.1, affine=True, track_running_stats=True)\n",
       "      )\n",
       "    )\n",
       "    (8): InvertedResidual(\n",
       "      (conv): Sequential(\n",
       "        (0): Conv2dNormActivation(\n",
       "          (0): Conv2d(64, 384, kernel_size=(1, 1), stride=(1, 1), bias=False)\n",
       "          (1): BatchNorm2d(384, eps=1e-05, momentum=0.1, affine=True, track_running_stats=True)\n",
       "          (2): ReLU6(inplace=True)\n",
       "        )\n",
       "        (1): Conv2dNormActivation(\n",
       "          (0): Conv2d(384, 384, kernel_size=(3, 3), stride=(1, 1), padding=(1, 1), groups=384, bias=False)\n",
       "          (1): BatchNorm2d(384, eps=1e-05, momentum=0.1, affine=True, track_running_stats=True)\n",
       "          (2): ReLU6(inplace=True)\n",
       "        )\n",
       "        (2): Conv2d(384, 64, kernel_size=(1, 1), stride=(1, 1), bias=False)\n",
       "        (3): BatchNorm2d(64, eps=1e-05, momentum=0.1, affine=True, track_running_stats=True)\n",
       "      )\n",
       "    )\n",
       "    (9): InvertedResidual(\n",
       "      (conv): Sequential(\n",
       "        (0): Conv2dNormActivation(\n",
       "          (0): Conv2d(64, 384, kernel_size=(1, 1), stride=(1, 1), bias=False)\n",
       "          (1): BatchNorm2d(384, eps=1e-05, momentum=0.1, affine=True, track_running_stats=True)\n",
       "          (2): ReLU6(inplace=True)\n",
       "        )\n",
       "        (1): Conv2dNormActivation(\n",
       "          (0): Conv2d(384, 384, kernel_size=(3, 3), stride=(1, 1), padding=(1, 1), groups=384, bias=False)\n",
       "          (1): BatchNorm2d(384, eps=1e-05, momentum=0.1, affine=True, track_running_stats=True)\n",
       "          (2): ReLU6(inplace=True)\n",
       "        )\n",
       "        (2): Conv2d(384, 64, kernel_size=(1, 1), stride=(1, 1), bias=False)\n",
       "        (3): BatchNorm2d(64, eps=1e-05, momentum=0.1, affine=True, track_running_stats=True)\n",
       "      )\n",
       "    )\n",
       "    (10): InvertedResidual(\n",
       "      (conv): Sequential(\n",
       "        (0): Conv2dNormActivation(\n",
       "          (0): Conv2d(64, 384, kernel_size=(1, 1), stride=(1, 1), bias=False)\n",
       "          (1): BatchNorm2d(384, eps=1e-05, momentum=0.1, affine=True, track_running_stats=True)\n",
       "          (2): ReLU6(inplace=True)\n",
       "        )\n",
       "        (1): Conv2dNormActivation(\n",
       "          (0): Conv2d(384, 384, kernel_size=(3, 3), stride=(1, 1), padding=(1, 1), groups=384, bias=False)\n",
       "          (1): BatchNorm2d(384, eps=1e-05, momentum=0.1, affine=True, track_running_stats=True)\n",
       "          (2): ReLU6(inplace=True)\n",
       "        )\n",
       "        (2): Conv2d(384, 64, kernel_size=(1, 1), stride=(1, 1), bias=False)\n",
       "        (3): BatchNorm2d(64, eps=1e-05, momentum=0.1, affine=True, track_running_stats=True)\n",
       "      )\n",
       "    )\n",
       "    (11): InvertedResidual(\n",
       "      (conv): Sequential(\n",
       "        (0): Conv2dNormActivation(\n",
       "          (0): Conv2d(64, 384, kernel_size=(1, 1), stride=(1, 1), bias=False)\n",
       "          (1): BatchNorm2d(384, eps=1e-05, momentum=0.1, affine=True, track_running_stats=True)\n",
       "          (2): ReLU6(inplace=True)\n",
       "        )\n",
       "        (1): Conv2dNormActivation(\n",
       "          (0): Conv2d(384, 384, kernel_size=(3, 3), stride=(1, 1), padding=(1, 1), groups=384, bias=False)\n",
       "          (1): BatchNorm2d(384, eps=1e-05, momentum=0.1, affine=True, track_running_stats=True)\n",
       "          (2): ReLU6(inplace=True)\n",
       "        )\n",
       "        (2): Conv2d(384, 96, kernel_size=(1, 1), stride=(1, 1), bias=False)\n",
       "        (3): BatchNorm2d(96, eps=1e-05, momentum=0.1, affine=True, track_running_stats=True)\n",
       "      )\n",
       "    )\n",
       "    (12): InvertedResidual(\n",
       "      (conv): Sequential(\n",
       "        (0): Conv2dNormActivation(\n",
       "          (0): Conv2d(96, 576, kernel_size=(1, 1), stride=(1, 1), bias=False)\n",
       "          (1): BatchNorm2d(576, eps=1e-05, momentum=0.1, affine=True, track_running_stats=True)\n",
       "          (2): ReLU6(inplace=True)\n",
       "        )\n",
       "        (1): Conv2dNormActivation(\n",
       "          (0): Conv2d(576, 576, kernel_size=(3, 3), stride=(1, 1), padding=(1, 1), groups=576, bias=False)\n",
       "          (1): BatchNorm2d(576, eps=1e-05, momentum=0.1, affine=True, track_running_stats=True)\n",
       "          (2): ReLU6(inplace=True)\n",
       "        )\n",
       "        (2): Conv2d(576, 96, kernel_size=(1, 1), stride=(1, 1), bias=False)\n",
       "        (3): BatchNorm2d(96, eps=1e-05, momentum=0.1, affine=True, track_running_stats=True)\n",
       "      )\n",
       "    )\n",
       "    (13): InvertedResidual(\n",
       "      (conv): Sequential(\n",
       "        (0): Conv2dNormActivation(\n",
       "          (0): Conv2d(96, 576, kernel_size=(1, 1), stride=(1, 1), bias=False)\n",
       "          (1): BatchNorm2d(576, eps=1e-05, momentum=0.1, affine=True, track_running_stats=True)\n",
       "          (2): ReLU6(inplace=True)\n",
       "        )\n",
       "        (1): Conv2dNormActivation(\n",
       "          (0): Conv2d(576, 576, kernel_size=(3, 3), stride=(1, 1), padding=(1, 1), groups=576, bias=False)\n",
       "          (1): BatchNorm2d(576, eps=1e-05, momentum=0.1, affine=True, track_running_stats=True)\n",
       "          (2): ReLU6(inplace=True)\n",
       "        )\n",
       "        (2): Conv2d(576, 96, kernel_size=(1, 1), stride=(1, 1), bias=False)\n",
       "        (3): BatchNorm2d(96, eps=1e-05, momentum=0.1, affine=True, track_running_stats=True)\n",
       "      )\n",
       "    )\n",
       "    (14): InvertedResidual(\n",
       "      (conv): Sequential(\n",
       "        (0): Conv2dNormActivation(\n",
       "          (0): Conv2d(96, 576, kernel_size=(1, 1), stride=(1, 1), bias=False)\n",
       "          (1): BatchNorm2d(576, eps=1e-05, momentum=0.1, affine=True, track_running_stats=True)\n",
       "          (2): ReLU6(inplace=True)\n",
       "        )\n",
       "        (1): Conv2dNormActivation(\n",
       "          (0): Conv2d(576, 576, kernel_size=(3, 3), stride=(2, 2), padding=(1, 1), groups=576, bias=False)\n",
       "          (1): BatchNorm2d(576, eps=1e-05, momentum=0.1, affine=True, track_running_stats=True)\n",
       "          (2): ReLU6(inplace=True)\n",
       "        )\n",
       "        (2): Conv2d(576, 160, kernel_size=(1, 1), stride=(1, 1), bias=False)\n",
       "        (3): BatchNorm2d(160, eps=1e-05, momentum=0.1, affine=True, track_running_stats=True)\n",
       "      )\n",
       "    )\n",
       "    (15): InvertedResidual(\n",
       "      (conv): Sequential(\n",
       "        (0): Conv2dNormActivation(\n",
       "          (0): Conv2d(160, 960, kernel_size=(1, 1), stride=(1, 1), bias=False)\n",
       "          (1): BatchNorm2d(960, eps=1e-05, momentum=0.1, affine=True, track_running_stats=True)\n",
       "          (2): ReLU6(inplace=True)\n",
       "        )\n",
       "        (1): Conv2dNormActivation(\n",
       "          (0): Conv2d(960, 960, kernel_size=(3, 3), stride=(1, 1), padding=(1, 1), groups=960, bias=False)\n",
       "          (1): BatchNorm2d(960, eps=1e-05, momentum=0.1, affine=True, track_running_stats=True)\n",
       "          (2): ReLU6(inplace=True)\n",
       "        )\n",
       "        (2): Conv2d(960, 160, kernel_size=(1, 1), stride=(1, 1), bias=False)\n",
       "        (3): BatchNorm2d(160, eps=1e-05, momentum=0.1, affine=True, track_running_stats=True)\n",
       "      )\n",
       "    )\n",
       "    (16): InvertedResidual(\n",
       "      (conv): Sequential(\n",
       "        (0): Conv2dNormActivation(\n",
       "          (0): Conv2d(160, 960, kernel_size=(1, 1), stride=(1, 1), bias=False)\n",
       "          (1): BatchNorm2d(960, eps=1e-05, momentum=0.1, affine=True, track_running_stats=True)\n",
       "          (2): ReLU6(inplace=True)\n",
       "        )\n",
       "        (1): Conv2dNormActivation(\n",
       "          (0): Conv2d(960, 960, kernel_size=(3, 3), stride=(1, 1), padding=(1, 1), groups=960, bias=False)\n",
       "          (1): BatchNorm2d(960, eps=1e-05, momentum=0.1, affine=True, track_running_stats=True)\n",
       "          (2): ReLU6(inplace=True)\n",
       "        )\n",
       "        (2): Conv2d(960, 160, kernel_size=(1, 1), stride=(1, 1), bias=False)\n",
       "        (3): BatchNorm2d(160, eps=1e-05, momentum=0.1, affine=True, track_running_stats=True)\n",
       "      )\n",
       "    )\n",
       "    (17): InvertedResidual(\n",
       "      (conv): Sequential(\n",
       "        (0): Conv2dNormActivation(\n",
       "          (0): Conv2d(160, 960, kernel_size=(1, 1), stride=(1, 1), bias=False)\n",
       "          (1): BatchNorm2d(960, eps=1e-05, momentum=0.1, affine=True, track_running_stats=True)\n",
       "          (2): ReLU6(inplace=True)\n",
       "        )\n",
       "        (1): Conv2dNormActivation(\n",
       "          (0): Conv2d(960, 960, kernel_size=(3, 3), stride=(1, 1), padding=(1, 1), groups=960, bias=False)\n",
       "          (1): BatchNorm2d(960, eps=1e-05, momentum=0.1, affine=True, track_running_stats=True)\n",
       "          (2): ReLU6(inplace=True)\n",
       "        )\n",
       "        (2): Conv2d(960, 320, kernel_size=(1, 1), stride=(1, 1), bias=False)\n",
       "        (3): BatchNorm2d(320, eps=1e-05, momentum=0.1, affine=True, track_running_stats=True)\n",
       "      )\n",
       "    )\n",
       "    (18): Conv2dNormActivation(\n",
       "      (0): Conv2d(320, 1280, kernel_size=(1, 1), stride=(1, 1), bias=False)\n",
       "      (1): BatchNorm2d(1280, eps=1e-05, momentum=0.1, affine=True, track_running_stats=True)\n",
       "      (2): ReLU6(inplace=True)\n",
       "    )\n",
       "  )\n",
       "  (classifier): Sequential(\n",
       "    (0): Dropout(p=0.2, inplace=False)\n",
       "    (1): Linear(in_features=1280, out_features=15, bias=True)\n",
       "  )\n",
       ")"
      ]
     },
     "execution_count": 20,
     "metadata": {},
     "output_type": "execute_result"
    }
   ],
   "source": [
    "model "
   ]
  },
  {
   "cell_type": "code",
   "execution_count": 39,
   "id": "7d9f9d55",
   "metadata": {
    "execution": {
     "iopub.execute_input": "2024-05-19T19:00:08.468382Z",
     "iopub.status.busy": "2024-05-19T19:00:08.467732Z",
     "iopub.status.idle": "2024-05-19T19:00:08.495923Z",
     "shell.execute_reply": "2024-05-19T19:00:08.494825Z",
     "shell.execute_reply.started": "2024-05-19T19:00:08.468348Z"
    },
    "tags": []
   },
   "outputs": [],
   "source": [
    "num_epochs = 5\n",
    "optimizer = torch.optim.SGD(model.parameters(), lr=0.01, momentum=0.9)\n",
    "criterion = torch.nn.CrossEntropyLoss()\n",
    "scheduler = torch.optim.lr_scheduler.CosineAnnealingLR(optimizer, num_epochs)"
   ]
  },
  {
   "cell_type": "code",
   "execution_count": 41,
   "id": "95270676",
   "metadata": {
    "execution": {
     "iopub.execute_input": "2024-05-19T19:00:24.339472Z",
     "iopub.status.busy": "2024-05-19T19:00:24.338542Z",
     "iopub.status.idle": "2024-05-19T19:40:58.447353Z",
     "shell.execute_reply": "2024-05-19T19:40:58.446175Z",
     "shell.execute_reply.started": "2024-05-19T19:00:24.339422Z"
    },
    "tags": []
   },
   "outputs": [
    {
     "data": {
      "image/png": "[encoded data removed]",
      "text/plain": [
       "<Figure size 936x288 with 2 Axes>"
      ]
     },
     "metadata": {},
     "output_type": "display_data"
    }
   ],
   "source": [
    "train_losses, test_losses, train_accuracies, test_accuracies = train(\n",
    "    model, optimizer, scheduler, criterion, train_loader, test_loader, num_epochs\n",
    ")"
   ]
  },
  {
   "cell_type": "code",
   "execution_count": null,
   "id": "0dcc9efc",
   "metadata": {},
   "outputs": [],
   "source": []
  },
  {
   "cell_type": "code",
   "execution_count": null,
   "id": "503c8728",
   "metadata": {
    "tags": []
   },
   "outputs": [],
   "source": []
  },
  {
   "cell_type": "code",
   "execution_count": 53,
   "id": "adecbcd9-c5b9-4f7d-8197-9a7f83804c92",
   "metadata": {
    "execution": {
     "iopub.execute_input": "2024-05-19T19:49:18.734395Z",
     "iopub.status.busy": "2024-05-19T19:49:18.733302Z",
     "iopub.status.idle": "2024-05-19T19:49:18.751635Z",
     "shell.execute_reply": "2024-05-19T19:49:18.750613Z",
     "shell.execute_reply.started": "2024-05-19T19:49:18.734344Z"
    },
    "tags": []
   },
   "outputs": [],
   "source": [
    "test_transform = A.Compose(\n",
    "    [\n",
    "        A.SmallestMaxSize(max_size=160),\n",
    "        A.CenterCrop(height=128, width=128),\n",
    "        A.Normalize(mean=(0.485, 0.456, 0.406), std=(0.229, 0.224, 0.225)),\n",
    "        ToTensorV2(),\n",
    "    ]\n",
    ")\n",
    "\n",
    "# val_dataset = Odin(root=\"/home/jupyter/datasphere/project/study-competition-2-dl-2024-1/data_cry/train1\", train=False, \n",
    "#                      load_to_ram=True, transform=test_transform)\n",
    "# test_dataset = Vtoroi(root=\"/home/jupyter/datasphere/project/study-competition-2-dl-2024-1/data_cry/test\", train= False, load_to_ram=True, transform=test_transform)\n",
    "# test_loader = DataLoader(\n",
    "#     test_dataset, batch_size=params[\"batch_size\"], shuffle=False, num_workers=params[\"num_workers\"], pin_memory=True,\n",
    "# )"
   ]
  },
  {
   "cell_type": "code",
   "execution_count": null,
   "id": "4d505617-abe0-49cd-aa16-c88deb485cca",
   "metadata": {
    "tags": []
   },
   "outputs": [],
   "source": []
  },
  {
   "cell_type": "code",
   "execution_count": null,
   "id": "66e6159d-665c-405a-b843-0cde0651bff2",
   "metadata": {},
   "outputs": [],
   "source": []
  },
  {
   "cell_type": "code",
   "execution_count": null,
   "id": "ce25b253-ffbe-419a-b831-aa1421110804",
   "metadata": {},
   "outputs": [],
   "source": []
  },
  {
   "cell_type": "code",
   "execution_count": 70,
   "id": "27c5523c",
   "metadata": {
    "execution": {
     "iopub.execute_input": "2024-05-19T20:18:37.402214Z",
     "iopub.status.busy": "2024-05-19T20:18:37.400917Z",
     "iopub.status.idle": "2024-05-19T20:19:48.187468Z",
     "shell.execute_reply": "2024-05-19T20:19:48.186235Z",
     "shell.execute_reply.started": "2024-05-19T20:18:37.402142Z"
    },
    "tags": []
   },
   "outputs": [],
   "source": [
    "folder_path = '/home/jupyter/datasphere/project/study-competition-2-dl-2024-1/data_cry/test'\n",
    "\n",
    "\n",
    "preprocess = T.Compose([\n",
    "    T.ToTensor()\n",
    "])\n",
    "\n",
    "\n",
    "results = pd.DataFrame(columns=['Image', 'Class'])\n",
    "\n",
    "\n",
    "for filename in os.listdir(folder_path):\n",
    "    if filename.endswith('.jpg'):\n",
    "        \n",
    "        img_path = os.path.join(folder_path, filename)\n",
    "        img = Image.open(img_path).convert('RGB')\n",
    "        image_number = int(os.path.splitext(filename)[0])\n",
    "        \n",
    "       \n",
    "        img_tensor = preprocess(img)\n",
    "        img_tensor = img_tensor.unsqueeze(0)  \n",
    "        \n",
    "      \n",
    "        with torch.no_grad():\n",
    "            logits = model(img_tensor)\n",
    "        \n",
    "        \n",
    "        top_class = logits.argmax(dim=1).item()\n",
    "        \n",
    "       \n",
    "        results = results.append({'Image': image_number, 'Class': top_class}, ignore_index=True)"
   ]
  },
  {
   "cell_type": "code",
   "execution_count": 71,
   "id": "e74fd784-6f91-49f1-b035-59292b0597dd",
   "metadata": {
    "execution": {
     "iopub.execute_input": "2024-05-19T20:22:05.194801Z",
     "iopub.status.busy": "2024-05-19T20:22:05.193814Z",
     "iopub.status.idle": "2024-05-19T20:22:05.219849Z",
     "shell.execute_reply": "2024-05-19T20:22:05.218728Z",
     "shell.execute_reply.started": "2024-05-19T20:22:05.194765Z"
    },
    "tags": []
   },
   "outputs": [
    {
     "name": "stdout",
     "output_type": "stream",
     "text": [
      "     Image Class\n",
      "0        0     5\n",
      "1        1    11\n",
      "2       10     5\n",
      "3      100    10\n",
      "4     1000    13\n",
      "...    ...   ...\n",
      "2995   995    12\n",
      "2996   996    14\n",
      "2997   997     2\n",
      "2998   998     8\n",
      "2999   999     1\n",
      "\n",
      "[3000 rows x 2 columns]\n"
     ]
    }
   ],
   "source": [
    "print(results)"
   ]
  },
  {
   "cell_type": "code",
   "execution_count": 77,
   "id": "e4ae5120-bd44-4937-8651-7ed8e7e9fff7",
   "metadata": {
    "execution": {
     "iopub.execute_input": "2024-05-19T20:41:03.196176Z",
     "iopub.status.busy": "2024-05-19T20:41:03.195229Z",
     "iopub.status.idle": "2024-05-19T20:41:03.249879Z",
     "shell.execute_reply": "2024-05-19T20:41:03.248742Z",
     "shell.execute_reply.started": "2024-05-19T20:41:03.196126Z"
    },
    "tags": []
   },
   "outputs": [
    {
     "name": "stdout",
     "output_type": "stream",
     "text": [
      "Результаты были успешно сохранены в файле /home/jupyter/datasphere/project/study-competition-2-dl-2024-1/results.csv\n"
     ]
    }
   ],
   "source": [
    "csv_path = '/home/jupyter/datasphere/project/study-competition-2-dl-2024-1/results.csv'\n",
    "\n",
    "# Запись DataFrame в файл CSV\n",
    "results.to_csv(csv_path, index=False)\n",
    "\n",
    "# Проверка успешного сохранения файла\n",
    "if os.path.exists(csv_path):\n",
    "    print(f\"Результаты были успешно сохранены в файле {csv_path}\")\n",
    "else:\n",
    "    print(\"Ошибка при сохранении результатов в файл CSV\")"
   ]
  },
  {
   "cell_type": "code",
   "execution_count": null,
   "id": "0a3e719a-caaa-4628-aabd-f1a3255bc963",
   "metadata": {},
   "outputs": [],
   "source": []
  },
  {
   "cell_type": "code",
   "execution_count": null,
   "id": "2e8e975d-e4a5-4d49-9c29-22d0487bbb3d",
   "metadata": {
    "tags": []
   },
   "outputs": [],
   "source": []
  },
  {
   "cell_type": "code",
   "execution_count": null,
   "id": "1b7cb009-ee3b-4177-b777-cd40cbd5e26a",
   "metadata": {
    "tags": []
   },
   "outputs": [],
   "source": []
  },
  {
   "cell_type": "code",
   "execution_count": null,
   "id": "baee0e06-3304-4427-a9b1-1ac53b9dd46d",
   "metadata": {
    "tags": []
   },
   "outputs": [],
   "source": []
  },
  {
   "cell_type": "code",
   "execution_count": null,
   "id": "0d593eb5-1aec-44b8-82c8-ea08d10e3786",
   "metadata": {
    "tags": []
   },
   "outputs": [],
   "source": []
  },
  {
   "cell_type": "code",
   "execution_count": null,
   "id": "20ccf4c5-b841-46dc-8328-22cce693d603",
   "metadata": {
    "tags": []
   },
   "outputs": [],
   "source": []
  },
  {
   "cell_type": "code",
   "execution_count": null,
   "id": "dc4f5a31-95e1-4eaa-867f-0f30163600f1",
   "metadata": {
    "tags": []
   },
   "outputs": [],
   "source": []
  },
  {
   "cell_type": "code",
   "execution_count": null,
   "id": "47e1dc84",
   "metadata": {
    "tags": []
   },
   "outputs": [],
   "source": []
  },
  {
   "cell_type": "code",
   "execution_count": null,
   "id": "46d5f812",
   "metadata": {
    "tags": []
   },
   "outputs": [],
   "source": []
  },
  {
   "cell_type": "code",
   "execution_count": null,
   "id": "1c0e69dc",
   "metadata": {},
   "outputs": [],
   "source": [
    "\n"
   ]
  },
  {
   "cell_type": "code",
   "execution_count": null,
   "id": "321b4a1f",
   "metadata": {},
   "outputs": [],
   "source": []
  },
  {
   "cell_type": "code",
   "execution_count": null,
   "id": "5674d76a",
   "metadata": {},
   "outputs": [],
   "source": []
  },
  {
   "cell_type": "code",
   "execution_count": null,
   "id": "66e08977",
   "metadata": {},
   "outputs": [],
   "source": []
  },
  {
   "cell_type": "code",
   "execution_count": null,
   "id": "54048e14",
   "metadata": {},
   "outputs": [],
   "source": []
  },
  {
   "cell_type": "code",
   "execution_count": null,
   "id": "b73d8141",
   "metadata": {},
   "outputs": [],
   "source": []
  },
  {
   "cell_type": "code",
   "execution_count": null,
   "id": "12288f5a",
   "metadata": {},
   "outputs": [],
   "source": []
  },
  {
   "cell_type": "code",
   "execution_count": null,
   "id": "77d05889",
   "metadata": {},
   "outputs": [],
   "source": []
  },
  {
   "cell_type": "code",
   "execution_count": null,
   "id": "3960fcb1",
   "metadata": {},
   "outputs": [],
   "source": []
  },
  {
   "cell_type": "code",
   "execution_count": null,
   "id": "de3cd93e",
   "metadata": {},
   "outputs": [],
   "source": []
  },
  {
   "cell_type": "code",
   "execution_count": null,
   "id": "1852767e",
   "metadata": {},
   "outputs": [],
   "source": []
  },
  {
   "cell_type": "code",
   "execution_count": null,
   "id": "bec50ac2",
   "metadata": {},
   "outputs": [],
   "source": []
  },
  {
   "cell_type": "code",
   "execution_count": null,
   "id": "56480259",
   "metadata": {},
   "outputs": [],
   "source": []
  },
  {
   "cell_type": "code",
   "execution_count": null,
   "id": "b4a46ec4",
   "metadata": {},
   "outputs": [],
   "source": []
  },
  {
   "cell_type": "code",
   "execution_count": null,
   "id": "8077bc7a",
   "metadata": {},
   "outputs": [],
   "source": []
  },
  {
   "cell_type": "code",
   "execution_count": null,
   "id": "778a4b44",
   "metadata": {},
   "outputs": [],
   "source": []
  },
  {
   "cell_type": "code",
   "execution_count": null,
   "id": "b71410b4",
   "metadata": {},
   "outputs": [],
   "source": []
  },
  {
   "cell_type": "code",
   "execution_count": null,
   "id": "a72d822b",
   "metadata": {},
   "outputs": [],
   "source": []
  },
  {
   "cell_type": "code",
   "execution_count": null,
   "id": "55e668c1",
   "metadata": {},
   "outputs": [],
   "source": []
  },
  {
   "cell_type": "code",
   "execution_count": null,
   "id": "4dddb8a1",
   "metadata": {},
   "outputs": [],
   "source": []
  },
  {
   "cell_type": "code",
   "execution_count": null,
   "id": "23917a40",
   "metadata": {},
   "outputs": [],
   "source": []
  },
  {
   "cell_type": "code",
   "execution_count": null,
   "id": "96459d34",
   "metadata": {},
   "outputs": [],
   "source": []
  },
  {
   "cell_type": "code",
   "execution_count": null,
   "id": "0ef6e8d6",
   "metadata": {},
   "outputs": [],
   "source": []
  },
  {
   "cell_type": "code",
   "execution_count": null,
   "id": "6b7f842e",
   "metadata": {},
   "outputs": [],
   "source": []
  },
  {
   "cell_type": "code",
   "execution_count": null,
   "id": "01316109",
   "metadata": {},
   "outputs": [],
   "source": []
  },
  {
   "cell_type": "code",
   "execution_count": null,
   "id": "55d7da53",
   "metadata": {},
   "outputs": [],
   "source": []
  },
  {
   "cell_type": "code",
   "execution_count": null,
   "id": "1ba7d227",
   "metadata": {},
   "outputs": [],
   "source": []
  },
  {
   "cell_type": "code",
   "execution_count": null,
   "id": "60944042",
   "metadata": {},
   "outputs": [],
   "source": []
  },
  {
   "cell_type": "code",
   "execution_count": null,
   "id": "87063ffe",
   "metadata": {},
   "outputs": [],
   "source": []
  },
  {
   "cell_type": "code",
   "execution_count": null,
   "id": "00c313eb",
   "metadata": {},
   "outputs": [],
   "source": []
  },
  {
   "cell_type": "code",
   "execution_count": null,
   "id": "2c2fcaa5",
   "metadata": {},
   "outputs": [],
   "source": []
  },
  {
   "cell_type": "code",
   "execution_count": null,
   "id": "1d1c58b3",
   "metadata": {},
   "outputs": [],
   "source": []
  },
  {
   "cell_type": "code",
   "execution_count": null,
   "id": "95cbddb2",
   "metadata": {},
   "outputs": [],
   "source": []
  },
  {
   "cell_type": "code",
   "execution_count": null,
   "id": "4385d1b7",
   "metadata": {},
   "outputs": [],
   "source": []
  }
 ],
 "metadata": {
  "kernelspec": {
   "display_name": "DataSphere Kernel",
   "language": "python",
   "name": "python3"
  },
  "language_info": {
   "codemirror_mode": {
    "name": "ipython",
    "version": 3
   },
   "file_extension": ".py",
   "mimetype": "text/x-python",
   "name": "python",
   "nbconvert_exporter": "python",
   "pygments_lexer": "ipython3",
   "version": "3.9.13"
  }
 },
 "nbformat": 4,
 "nbformat_minor": 5
}
